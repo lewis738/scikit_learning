{
  "nbformat": 4,
  "nbformat_minor": 0,
  "metadata": {
    "colab": {
      "name": "01-05_scikit_learn_Tutorials(External Resources, Videos and Talks).ipynb",
      "provenance": [],
      "collapsed_sections": [],
      "authorship_tag": "ABX9TyN381I0iJxhJE/ZMb2i6pKf",
      "include_colab_link": true
    },
    "kernelspec": {
      "name": "python3",
      "display_name": "Python 3"
    },
    "language_info": {
      "name": "python"
    }
  },
  "cells": [
    {
      "cell_type": "markdown",
      "metadata": {
        "id": "view-in-github",
        "colab_type": "text"
      },
      "source": [
        "<a href=\"https://colab.research.google.com/github/lewis738/scikit_learning/blob/main/01_05_scikit_learn_Tutorials(External_Resources%2C_Videos_and_Talks).ipynb\" target=\"_parent\"><img src=\"https://colab.research.google.com/assets/colab-badge.svg\" alt=\"Open In Colab\"/></a>"
      ]
    },
    {
      "cell_type": "markdown",
      "source": [
        "文档教程请参考[Tutorial教程页](https://scikit-learn.org/stable/tutorial/index.html#tutorial-menu)"
      ],
      "metadata": {
        "id": "huRJApfJgEV4"
      }
    },
    {
      "cell_type": "markdown",
      "source": [
        "# New to Scientific Python? 刚开始用Python科学计算？"
      ],
      "metadata": {
        "id": "_e0UdGOTf8Uv"
      }
    },
    {
      "cell_type": "markdown",
      "source": [
        "那些对科学Python生态系统还不熟悉的人，我们强烈推荐[Python科学讲座讲义](https://www.scipy-lectures.org/)。\n",
        "\n",
        "这将帮助你找到自己的立足点，并肯定会提高你的scikit-learn经验。 建议您对NumPy数组有一个基本的了解，以便最大限度地利用scikit-learn。"
      ],
      "metadata": {
        "id": "ihwirvf1gReV"
      }
    },
    {
      "cell_type": "markdown",
      "source": [
        "# External Tutorials 外部教程"
      ],
      "metadata": {
        "id": "a6GuE1YTf8PB"
      }
    },
    {
      "cell_type": "markdown",
      "source": [
        "有一些针对特定主题领域的在线教程：\n",
        "\n",
        "\n",
        "\n",
        "* [Machine Learning for NeuroImaging in Python](https://nilearn.github.io/)\n",
        "\n",
        "* [Machine Learning for Astronomical Data Analysis](https://github.com/astroML/sklearn_tutorial)\n",
        "\n"
      ],
      "metadata": {
        "id": "VQxuyh7igezc"
      }
    },
    {
      "cell_type": "markdown",
      "source": [
        "# Videos"
      ],
      "metadata": {
        "id": "ZsW4v-MQf8H2"
      }
    },
    {
      "cell_type": "markdown",
      "source": [
        "\n",
        "\n",
        "* scikit-learn介绍 [第一部分Part I](https://conference.scipy.org/scipy2013/tutorial_detail.php?id=107) and [第二部分Part II](https://conference.scipy.org/scipy2013/tutorial_detail.php?id=111) at Scipy 2013 by [Gael Varoquaux](http://gael-varoquaux.info/), [Jake Vanderplas](https://staff.washington.edu/jakevdp) and [Olivier Grisel](https://twitter.com/ogrisel). Notebooks on [github](https://github.com/jakevdp/sklearn_scipy2013).\n",
        "\n",
        "* [scikit-learn介绍](http://videolectures.net/icml2010_varaquaux_scik/) by [Gael Varoquaux](http://gael-varoquaux.info/) at ICML 2010\n",
        "\n",
        " A three minute video from a very early stage of scikit-learn, explaining the basic idea and approach we are following.\n",
        "\n",
        "* [Introduction to statistical learning with scikit-learn](https://archive.org/search.php?query=scikit-learn) by [Gael Varoquaux](http://gael-varoquaux.info/) at SciPy 2011\n",
        "\n",
        " An extensive tutorial, consisting of four sessions of one hour. The tutorial covers the basics of machine learning, many algorithms and how to apply them using scikit-learn. The material corresponding is now in the scikit-learn documentation section [A tutorial on statistical-learning for scientific data processing](https://scikit-learn.org/stable/tutorial/statistical_inference/index.html#stat-learn-tut-index).\n",
        "\n",
        "* [Statistical Learning for Text Classification with scikit-learn and NLTK](https://pyvideo.org/video/417/pycon-2011--statistical-machine-learning-for-text) \n",
        "and [slides](https://www.slideshare.net/ogrisel/statistical-machine-learning-for-text-classification-with-scikitlearn-and-nltk) by [Olivier Grisel](https://twitter.com/ogrisel) at PyCon 2011\n",
        "\n",
        " Thirty minute introduction to text classification. Explains how to use NLTK and scikit-learn to solve real-world text classification tasks and compares against cloud-based solutions.\n",
        "\n",
        "* [Introduction to Interactive Predictive Analytics in Python with scikit-learn](https://www.youtube.com/watch?v=Zd5dfooZWG4) by [Olivier Grisel](https://twitter.com/ogrisel) at PyCon 2012\n",
        "\n",
        " 3-hours long introduction to prediction tasks using scikit-learn.\n",
        "\n",
        "* [scikit-learn - Machine Learning in Python](https://newcircle.com/s/post/1152/scikit-learn_machine_learning_in_python) by [Jake Vanderplas](https://staff.washington.edu/jakevdp) at the 2012 PyData workshop at Google\n",
        "\n",
        " Interactive demonstration of some scikit-learn features. 75 minutes.\n",
        "\n",
        "* [scikit-learn tutorial](https://www.youtube.com/watch?v=cHZONQ2-x7I) by [Jake Vanderplas](https://staff.washington.edu/jakevdp) at PyData NYC 2012\n",
        "\n",
        " Presentation using the online tutorial, 45 minutes.\n",
        "\n"
      ],
      "metadata": {
        "id": "xO5V-fdugxHO"
      }
    }
  ]
}