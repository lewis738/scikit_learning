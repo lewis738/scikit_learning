{
  "nbformat": 4,
  "nbformat_minor": 0,
  "metadata": {
    "colab": {
      "name": "01-02_scikit_learn_Tutorials(A tut on statistical-learning for scitific data precessing).ipynb",
      "provenance": [],
      "collapsed_sections": [
        "yXizitetJjXV",
        "cqpa81tWJ6EX",
        "q-cPWlXqJ6Ue",
        "b-7GKFEIJ-e6",
        "tVfzMXPs-JkC",
        "hNwuli3sAF5b",
        "kZXwBC7VOD1o",
        "YzZBtyrMOJHR",
        "mklKnv0QOM_I",
        "-ET0_qXpOQZb",
        "nkC-v8WHKFfE",
        "l83pnN3IJkJu",
        "QaTO7bCGKOIz",
        "we_2_yYfKOaU",
        "bNogfZqbKOqm"
      ],
      "authorship_tag": "ABX9TyO6w6IuL9HC9n+ZgT1o57xu",
      "include_colab_link": true
    },
    "kernelspec": {
      "name": "python3",
      "display_name": "Python 3"
    },
    "language_info": {
      "name": "python"
    }
  },
  "cells": [
    {
      "cell_type": "markdown",
      "metadata": {
        "id": "view-in-github",
        "colab_type": "text"
      },
      "source": [
        "<a href=\"https://colab.research.google.com/github/lewis738/scikit_learning/blob/main/01_02_scikit_learn_Tutorials(A_tut_on_statistical_learning_for_scitific_data_precessing).ipynb\" target=\"_parent\"><img src=\"https://colab.research.google.com/assets/colab-badge.svg\" alt=\"Open In Colab\"/></a>"
      ]
    },
    {
      "cell_type": "markdown",
      "source": [
        "A tutorial on statistical-learning for scientific data processing"
      ],
      "metadata": {
        "id": "Ub9NZFLUNkOJ"
      }
    },
    {
      "cell_type": "markdown",
      "source": [
        " > **Statistical learnig 统计学习**\n",
        " > \n",
        " > 机器学习这项技术的重要性随着实验科学所面临数据量的快速增长而不断增长，它所能解决的问题从建立不同观测之间的拟合模型，到不同观测之间的分类，又或是学习无标签数据集的数据内在分布结构。\n",
        " >\n",
        " >这个部分教程将会介绍*统计学习*——使用机器学习方法来对数据进行推理（根据手上的的数据得出结论）。\n",
        " >\n",
        " >Scikit-learn是一个Python模块，它将经典的机器学习算法与科学计算的包 ([NumPy](https://www.numpy.org/), [SciPy](https://scipy.org/), [matplotlib](https://matplotlib.org/)) 紧密地结合在了一起。"
      ],
      "metadata": {
        "id": "l2bqW5SiKUFS"
      }
    },
    {
      "cell_type": "markdown",
      "source": [
        "# Statistical learning: the setting and the estimator object in scikit-learn 统计学习：scikit-learn中的设置和ertimator对象 [链接](https://scikit-learn.org/stable/tutorial/statistical_inference/settings.html)"
      ],
      "metadata": {
        "id": "yXizitetJjXV"
      }
    },
    {
      "cell_type": "markdown",
      "source": [
        "## Datasets 数据集"
      ],
      "metadata": {
        "id": "cqpa81tWJ6EX"
      }
    },
    {
      "cell_type": "markdown",
      "source": [
        "scikit-learn 可以处理一个或多个二维数组代表的数据集；可以理解为：一个多维观察的结果列表，我们说这些数组的第一维是采样轴`samples axis`,第二维是特征轴`features axis`。"
      ],
      "metadata": {
        "id": "vI7yf7oJNpIl"
      }
    },
    {
      "cell_type": "code",
      "source": [
        "# scikit-learn中提供的一个简单例子：鸢尾花数据集\n",
        "from sklearn import datasets\n",
        "iris = datasets.load_iris()\n",
        "data = iris.data\n",
        "data.shape"
      ],
      "metadata": {
        "colab": {
          "base_uri": "https://localhost:8080/"
        },
        "id": "8z6t2-ppNvL1",
        "outputId": "af7d4b7a-5c7f-4b90-a50b-6a20671fb354"
      },
      "execution_count": null,
      "outputs": [
        {
          "output_type": "execute_result",
          "data": {
            "text/plain": [
              "(150, 4)"
            ]
          },
          "metadata": {},
          "execution_count": 1
        }
      ]
    },
    {
      "cell_type": "markdown",
      "source": [
        "  > **Iris数据集**由150个对鸢尾花的观测构成，每次观测包含4个特征：sepal萼片和petal花瓣的length长和width宽，这四个特征在`iris.DESCR`中有描述；"
      ],
      "metadata": {
        "id": "GUob4q7pNw1F"
      }
    },
    {
      "cell_type": "markdown",
      "source": [
        "若数据集没有初始化为`(n_samples, n_features)`结构，需要先进行预处理`preprocess`才能使用scikit-learn中进行处理。"
      ],
      "metadata": {
        "id": "0fX2WOC3Prfw"
      }
    },
    {
      "cell_type": "markdown",
      "source": [
        " > **对手写数字数据集进行重构的例子**\n",
        " >\n",
        " > 手写数字数据集由1797个8×8的图片构成"
      ],
      "metadata": {
        "id": "HtrQhL2I2Oef"
      }
    },
    {
      "cell_type": "code",
      "source": [
        "digits = datasets.load_digits()\n",
        "digits.images.shape"
      ],
      "metadata": {
        "colab": {
          "base_uri": "https://localhost:8080/"
        },
        "id": "SOZ8uLkd2Y22",
        "outputId": "ac558f49-00bf-4e1f-a89c-e63df3e7eb0c"
      },
      "execution_count": null,
      "outputs": [
        {
          "output_type": "execute_result",
          "data": {
            "text/plain": [
              "(1797, 8, 8)"
            ]
          },
          "metadata": {},
          "execution_count": 2
        }
      ]
    },
    {
      "cell_type": "code",
      "source": [
        "import matplotlib.pyplot as plt\n",
        "plt.imshow(digits.images[-1],\n",
        "           cmap=plt.cm.gray_r)"
      ],
      "metadata": {
        "colab": {
          "base_uri": "https://localhost:8080/"
        },
        "id": "HVSNosrv2v-U",
        "outputId": "e67f2c31-a337-4556-dcab-b12057972b63"
      },
      "execution_count": null,
      "outputs": [
        {
          "output_type": "execute_result",
          "data": {
            "text/plain": [
              "<matplotlib.image.AxesImage at 0x7f0584bf7450>"
            ]
          },
          "metadata": {},
          "execution_count": 3
        },
        {
          "output_type": "display_data",
          "data": {
            "image/png": "[encoded data removed]",
            "text/plain": [
              "<Figure size 432x288 with 1 Axes>"
            ]
          },
          "metadata": {
            "needs_background": "light"
          }
        }
      ]
    },
    {
      "cell_type": "markdown",
      "source": [
        " > 要想在这个数据集上使用scikit-learn，我们先transform每个8×8的图片为一个64元素的向量。"
      ],
      "metadata": {
        "id": "x9pz2j5220ve"
      }
    },
    {
      "cell_type": "code",
      "source": [
        "data = digits.images.reshape(\n",
        "    (digits.images.shape[0], -1)\n",
        "    ) #reshape为(记录条数,-1表示自动计算总尺寸/记录条数)"
      ],
      "metadata": {
        "id": "vAGEpSB23Blg"
      },
      "execution_count": null,
      "outputs": []
    },
    {
      "cell_type": "markdown",
      "source": [
        "## Estimators objects 估计器对象"
      ],
      "metadata": {
        "id": "q-cPWlXqJ6Ue"
      }
    },
    {
      "cell_type": "markdown",
      "source": [
        "  *  **`拟合数据Fitting data`**：scikit-learn实现的主要API就是`estimator估计器`，估计器是可以从数据进行学习的任何一个对象，可以是分类、回归、聚类算法或者数据变换（特征提取、抽取、过滤）操作。\n",
        "  \n",
        "  一个估计器对象暴露了`fit`方法，用于获取数据（一般是二维数组）："
      ],
      "metadata": {
        "id": "MlIOrQg03t_V"
      }
    },
    {
      "cell_type": "code",
      "source": [
        "estimator.fit(data)"
      ],
      "metadata": {
        "id": "IOy2vUjy5Wdt",
        "colab": {
          "base_uri": "https://localhost:8080/",
          "height": 166
        },
        "outputId": "f0af6d3e-0e55-41fb-bde7-e8901edfaed2"
      },
      "execution_count": null,
      "outputs": [
        {
          "output_type": "error",
          "ename": "NameError",
          "evalue": "ignored",
          "traceback": [
            "\u001b[0;31m---------------------------------------------------------------------------\u001b[0m",
            "\u001b[0;31mNameError\u001b[0m                                 Traceback (most recent call last)",
            "\u001b[0;32m<ipython-input-5-67302fb98520>\u001b[0m in \u001b[0;36m<module>\u001b[0;34m()\u001b[0m\n\u001b[0;32m----> 1\u001b[0;31m \u001b[0mestimator\u001b[0m\u001b[0;34m.\u001b[0m\u001b[0mfit\u001b[0m\u001b[0;34m(\u001b[0m\u001b[0mdata\u001b[0m\u001b[0;34m)\u001b[0m\u001b[0;34m\u001b[0m\u001b[0;34m\u001b[0m\u001b[0m\n\u001b[0m",
            "\u001b[0;31mNameError\u001b[0m: name 'estimator' is not defined"
          ]
        }
      ]
    },
    {
      "cell_type": "markdown",
      "source": [
        "  *  **估计器参数 Estimator parameters**：估计器的所有参数都可以在实例化时给定，或者通过相应的属性进行更改："
      ],
      "metadata": {
        "id": "DU49vw6G5X4l"
      }
    },
    {
      "cell_type": "code",
      "source": [
        "estimator = Estimator(param1=1, param2=2)\n",
        "estimator.param1"
      ],
      "metadata": {
        "id": "Ww1VaENa5wwI"
      },
      "execution_count": null,
      "outputs": []
    },
    {
      "cell_type": "markdown",
      "source": [
        "  *  **估计的参数 Estimated parameters**：当估计器学习/fit了数据后，就根据数据估计出了参数的值，所有估计的参数都是估计器对象的【带下划线的属性】"
      ],
      "metadata": {
        "id": "1azIrSn_5ycY"
      }
    },
    {
      "cell_type": "code",
      "source": [
        "estimator.estimated_param_ "
      ],
      "metadata": {
        "id": "zcF7fF_f6XMR"
      },
      "execution_count": null,
      "outputs": []
    },
    {
      "cell_type": "markdown",
      "source": [
        "# Supervised learning: predicting an output variable from high-dimensional observations [链接](https://scikit-learn.org/stable/tutorial/statistical_inference/supervised_learning.html)"
      ],
      "metadata": {
        "id": "P4za4VkyJjnn"
      }
    },
    {
      "cell_type": "markdown",
      "source": [
        " > **监督学习解决的问题**\n",
        " > \n",
        " > [监督学习](https://scikit-learn.org/stable/supervised_learning.html#supervised-learning)包括学习两个数据集之间的关系：观测数据`X`和我们想要预测的外部变量`y`常称为“目标”、“标签”，大多时候，`y`是一一维数组，长度为`n_samples`;\n",
        " >\n",
        " >sklearn中所有的[`估计器estimator`](https://en.wikipedia.org/wiki/Estimator)都实现了`fit(X,y)`方法，用于拟合模型，`predict(X)`方法，用于预测无标签的观测`X`的预测标签`y`。\n"
      ],
      "metadata": {
        "id": "D_2oCOX_6ywt"
      }
    },
    {
      "cell_type": "markdown",
      "source": [
        " > **名词：分类和回归**\n",
        " > \n",
        " >*  **`分类 Classification 任务`**：预测的任务是将观测根据一组有限的标签进行划分，换句话说，给观测对象一个名字；\n",
        " >*  **`回归 Regression 任务`**：目标是预测一个连续目标变量的值。\n",
        " > \n",
        " > 在用sklearn做分类时，y是一个整型/字符串类新的向量\n",
        " >\n",
        " > **注意**：请查看[Intro to M.L. with sklearn页面](https://scikit-learn.org/stable/tutorial/basic/tutorial.html#introduction)，快速浏览sklearn中涉及的机器学习术语\n"
      ],
      "metadata": {
        "id": "FrbsNFSd779K"
      }
    },
    {
      "cell_type": "markdown",
      "source": [
        "## Nearest neighbor and the curse of dimensionality"
      ],
      "metadata": {
        "id": "b-7GKFEIJ-e6"
      }
    },
    {
      "cell_type": "markdown",
      "source": [
        " > **给鸢尾花数据集分类：**\n",
        " > \n",
        " > 鸢尾花数据集是一个用于分类的数据集，希望根据花瓣和萼片的长宽对三种鸢尾花（Setosa, Versicolour 和 Virginica）进行分类。"
      ],
      "metadata": {
        "id": "3lLvqHx49Wmi"
      }
    },
    {
      "cell_type": "code",
      "source": [
        "import numpy as np\n",
        "from sklearn import datasets\n",
        "iris_X, iris_y = datasets.load_iris(return_X_y=True)\n",
        "np.unique(iris_y)"
      ],
      "metadata": {
        "colab": {
          "base_uri": "https://localhost:8080/"
        },
        "id": "-3NX6ujb9sSy",
        "outputId": "697cf878-ca45-4e5d-c206-c33bcc86d93c"
      },
      "execution_count": null,
      "outputs": [
        {
          "output_type": "execute_result",
          "data": {
            "text/plain": [
              "array([0, 1, 2])"
            ]
          },
          "metadata": {},
          "execution_count": 6
        }
      ]
    },
    {
      "cell_type": "markdown",
      "source": [
        "[![鸢尾花数据集](https://scikit-learn.org/stable/_images/sphx_glr_plot_iris_dataset_001.png)](https://scikit-learn.org/stable/auto_examples/datasets/plot_iris_dataset.html)"
      ],
      "metadata": {
        "id": "lRkuLrai90nB"
      }
    },
    {
      "cell_type": "markdown",
      "source": [
        "### k-Nearest neighbors classifier k近邻分类器"
      ],
      "metadata": {
        "id": "tVfzMXPs-JkC"
      }
    },
    {
      "cell_type": "markdown",
      "source": [
        "最简单的分类器估计就是[最邻近分类器](https://en.wikipedia.org/wiki/K-nearest_neighbor_algorithm)了：给定一个新的观测`X_test`，在训练集（即estimator拟合的目标）中进行查找特征向量最近的一个观测（请查看[scikit-learn在线文档中最邻近分类的部分](https://scikit-learn.org/stable/modules/neighbors.html#neighbors)，获取有关这个分类器的详细信息）"
      ],
      "metadata": {
        "id": "1uCK3TTb-QLO"
      }
    },
    {
      "cell_type": "markdown",
      "source": [
        " > **Training set and testing set 训练集和测试集**\n",
        " >\n",
        " > 在对任何学习算法进行实验时，非常重要的一点是不要用训练集中 estimator fit 过的数据来测试估计器，因为这无法检测估计器对于**新数据**的预测能力；这也是我们将数据集划分为训练集和测试集的原因。\n",
        " \n",
        " KNN (k nearest neighbors) 分类的例子:"
      ],
      "metadata": {
        "id": "0HTNLewh_HZp"
      }
    },
    {
      "cell_type": "markdown",
      "source": [
        "[![KNN (k nearest neighbors) 分类的例子](https://scikit-learn.org/stable/_images/sphx_glr_plot_classification_001.png)](https://scikit-learn.org/stable/auto_examples/neighbors/plot_classification.html)"
      ],
      "metadata": {
        "id": "LcQ772z3_4BF"
      }
    },
    {
      "cell_type": "code",
      "source": [
        "# Split iris data in train and test data\n",
        "# A random permutation, to split the data randomly\n",
        "np.random.seed(0)\n",
        "indices = np.random.permutation(len(iris_X))\n",
        "iris_X_train = iris_X[indices[:-10]]\n",
        "iris_y_train = iris_y[indices[:-10]]\n",
        "iris_X_test = iris_X[indices[-10:]]\n",
        "iris_y_test = iris_y[indices[-10:]]\n",
        "# Create and fit a nearest-neighbor classifier\n",
        "from sklearn.neighbors import KNeighborsClassifier\n",
        "knn = KNeighborsClassifier()\n",
        "knn.fit(iris_X_train, iris_y_train)"
      ],
      "metadata": {
        "colab": {
          "base_uri": "https://localhost:8080/"
        },
        "id": "VrnUk2ON_3or",
        "outputId": "29fcc8a3-0f7b-4be7-c6d0-f08c03764bce"
      },
      "execution_count": null,
      "outputs": [
        {
          "output_type": "execute_result",
          "data": {
            "text/plain": [
              "KNeighborsClassifier()"
            ]
          },
          "metadata": {},
          "execution_count": 7
        }
      ]
    },
    {
      "cell_type": "code",
      "source": [
        "knn.predict(iris_X_test)"
      ],
      "metadata": {
        "colab": {
          "base_uri": "https://localhost:8080/"
        },
        "id": "WNZ7NqPa_1Lj",
        "outputId": "a1d2ccc0-d0b8-49d0-c4da-3039777d6587"
      },
      "execution_count": null,
      "outputs": [
        {
          "output_type": "execute_result",
          "data": {
            "text/plain": [
              "array([1, 2, 1, 0, 0, 0, 2, 1, 2, 0])"
            ]
          },
          "metadata": {},
          "execution_count": 8
        }
      ]
    },
    {
      "cell_type": "code",
      "source": [
        "iris_y_test"
      ],
      "metadata": {
        "colab": {
          "base_uri": "https://localhost:8080/"
        },
        "id": "9mffdBIRAD3d",
        "outputId": "4e5de06f-45ca-442b-8996-f4f46f7c00e8"
      },
      "execution_count": null,
      "outputs": [
        {
          "output_type": "execute_result",
          "data": {
            "text/plain": [
              "array([1, 1, 1, 0, 0, 0, 2, 1, 2, 0])"
            ]
          },
          "metadata": {},
          "execution_count": 9
        }
      ]
    },
    {
      "cell_type": "markdown",
      "source": [
        "### The curse of dimensionality 维度灾难"
      ],
      "metadata": {
        "id": "hNwuli3sAF5b"
      }
    },
    {
      "cell_type": "markdown",
      "source": [
        "为了让估计器能更有效，需要使相近点之间的距离小于某个值$d$，这个只取决于特定的问题。在一维问题中，平均需要$ n\\sim 1/d $个点。在前面的k-NN例子中，若数据只由一个特征描述，取值为0-1，并且训练集有n个样例，那么新的数据与它的距离不会超过$ 1/n $，因此，最邻近分类效果的决定性因素是$1/n$小于不同类之间的特征差异尺度。\n",
        "\n",
        "若特征数为$p$，那么需要$n\\sim1/d^p$个点；例如我们在一维中，需要10个点，那么在$p$维中则需要$10^p$个点，铺展在[0,1]空间中，当$p$增大时，一个好的估计器所需的训练样本数会爆炸式地增长。\n",
        "\n",
        "例如：若每个点都只是单个数(8 bytes)，对于特征维度较小的 $p \\sim 20$ 的k-NN 分类器需要的数据大小将比整个互联网的数据量还大（>1000Exabytes）\n",
        "\n",
        "这就叫[维数灾难](https://en.wikipedia.org/wiki/Curse_of_dimensionality)，是机器学习遇到的主要问题。"
      ],
      "metadata": {
        "id": "awFWreTWJGFi"
      }
    },
    {
      "cell_type": "markdown",
      "source": [
        "## Linear model: from regression to sparsity 从回归到稀疏"
      ],
      "metadata": {
        "id": "lN-Rs6qIJ-x7"
      }
    },
    {
      "cell_type": "markdown",
      "source": [
        " > **糖尿病数据集 diabetes dataset**\n",
        " >\n",
        " >糖尿病数据集由基于442个病人的10个生理变量，以及一个一年后疾病进展的指示组成。"
      ],
      "metadata": {
        "id": "3fbwJsDIJIve"
      }
    },
    {
      "cell_type": "code",
      "source": [
        "diabetes_X, diabetes_y = datasets.load_diabetes(return_X_y=True)\n",
        "diabetes_X_train = diabetes_X[:-20]\n",
        "diabetes_X_test  = diabetes_X[-20:]\n",
        "diabetes_y_train = diabetes_y[:-20]\n",
        "diabetes_y_test  = diabetes_y[-20:]"
      ],
      "metadata": {
        "id": "H0w1538nQ49Z"
      },
      "execution_count": null,
      "outputs": []
    },
    {
      "cell_type": "markdown",
      "source": [
        "因此这个问题的主要任务是从生理变量预测疾病的进程。"
      ],
      "metadata": {
        "id": "pX1Xd4-4Rb07"
      }
    },
    {
      "cell_type": "markdown",
      "source": [
        "### Linear regression 线性回归\n",
        "\n",
        "[LinearRegression 线性回归](https://scikit-learn.org/stable/modules/generated/sklearn.linear_model.LinearRegression.html#sklearn.linear_model.LinearRegression)，最简单的形式是通过调整一组参数，使得模型拟合的于给定数据集的平方差`squared residuals`尽可能小。\n",
        "\n",
        "线性模型：$y=X\\beta+\\epsilon$\n",
        "\n",
        "\n",
        "*   `X`：数据\n",
        "*   `y`：目标变量\n",
        "*   `β`：系数\n",
        "*   `ϵ`：观测噪声\n",
        "\n"
      ],
      "metadata": {
        "id": "fTgiKAWyRkOu"
      }
    },
    {
      "cell_type": "markdown",
      "source": [
        "[![线性回归示意图](https://scikit-learn.org/stable/_images/sphx_glr_plot_ols_001.png)](https://scikit-learn.org/stable/auto_examples/linear_model/plot_ols.html)"
      ],
      "metadata": {
        "id": "vi0dA78CS_ym"
      }
    },
    {
      "cell_type": "code",
      "source": [
        "from sklearn import linear_model\n",
        "regr = linear_model.LinearRegression()\n",
        "regr.fit(diabetes_X_train, diabetes_y_train)"
      ],
      "metadata": {
        "colab": {
          "base_uri": "https://localhost:8080/"
        },
        "id": "smEHyFb5S7-i",
        "outputId": "985b0dfe-0a27-478d-e52e-0e1f7869aabb"
      },
      "execution_count": null,
      "outputs": [
        {
          "output_type": "execute_result",
          "data": {
            "text/plain": [
              "LinearRegression()"
            ]
          },
          "metadata": {},
          "execution_count": 11
        }
      ]
    },
    {
      "cell_type": "code",
      "source": [
        "print(regr.coef_) "
      ],
      "metadata": {
        "colab": {
          "base_uri": "https://localhost:8080/"
        },
        "id": "Oo3-uORpTMYd",
        "outputId": "1ae96c9a-b56f-45cc-a25d-4f5e6f545e7c"
      },
      "execution_count": null,
      "outputs": [
        {
          "output_type": "stream",
          "name": "stdout",
          "text": [
            "[ 3.03499549e-01 -2.37639315e+02  5.10530605e+02  3.27736980e+02\n",
            " -8.14131709e+02  4.92814588e+02  1.02848452e+02  1.84606489e+02\n",
            "  7.43519617e+02  7.60951722e+01]\n"
          ]
        }
      ]
    },
    {
      "cell_type": "code",
      "source": [
        "# The mean square error\n",
        "np.mean((regr.predict(diabetes_X_test) - diabetes_y_test)**2)"
      ],
      "metadata": {
        "colab": {
          "base_uri": "https://localhost:8080/"
        },
        "id": "m6JeTN33TOlW",
        "outputId": "51a5ea14-ea83-40f5-986d-b6e1084a4f9b"
      },
      "execution_count": null,
      "outputs": [
        {
          "output_type": "execute_result",
          "data": {
            "text/plain": [
              "2004.5676026898211"
            ]
          },
          "metadata": {},
          "execution_count": 13
        }
      ]
    },
    {
      "cell_type": "code",
      "source": [
        "# Explained variance score: 1 is perfect prediction\n",
        "# and 0 means that there is no linear relationship\n",
        "# between X and y.\n",
        "regr.score(diabetes_X_test, diabetes_y_test)"
      ],
      "metadata": {
        "colab": {
          "base_uri": "https://localhost:8080/"
        },
        "id": "UBbQ85izTQaV",
        "outputId": "86dd72ae-3da3-4f54-d929-3bffb9defaf6"
      },
      "execution_count": null,
      "outputs": [
        {
          "output_type": "execute_result",
          "data": {
            "text/plain": [
              "0.5850753022690574"
            ]
          },
          "metadata": {},
          "execution_count": 14
        }
      ]
    },
    {
      "cell_type": "markdown",
      "source": [
        "### Shrinkage 收缩？"
      ],
      "metadata": {
        "id": "-TR-5v4STTsX"
      }
    },
    {
      "cell_type": "markdown",
      "source": [
        "若每个维度的数据都很少，那么观测的噪声方差就很大"
      ],
      "metadata": {
        "id": "w_gv3jylTa49"
      }
    },
    {
      "cell_type": "code",
      "source": [
        "X = np.c_[ .5, 1].T\n",
        "y = [.5, 1]\n",
        "test = np.c_[ 0, 2].T\n",
        "regr = linear_model.LinearRegression()\n",
        "\n",
        "import matplotlib.pyplot as plt\n",
        "plt.figure()"
      ],
      "metadata": {
        "colab": {
          "base_uri": "https://localhost:8080/",
          "height": 50
        },
        "id": "LLBjM5t6Th33",
        "outputId": "5b7f1530-fe4b-48f6-9b8b-ab2aef300072"
      },
      "execution_count": null,
      "outputs": [
        {
          "output_type": "execute_result",
          "data": {
            "text/plain": [
              "<Figure size 432x288 with 0 Axes>"
            ]
          },
          "metadata": {},
          "execution_count": 15
        },
        {
          "output_type": "display_data",
          "data": {
            "text/plain": [
              "<Figure size 432x288 with 0 Axes>"
            ]
          },
          "metadata": {}
        }
      ]
    },
    {
      "cell_type": "code",
      "source": [
        "np.random.seed(0)\n",
        "for _ in range(6):\n",
        "    this_X = .1 * np.random.normal(size=(2, 1)) + X\n",
        "    regr.fit(this_X, y)\n",
        "    plt.plot(test, regr.predict(test))\n",
        "    plt.scatter(this_X, y, s=3)"
      ],
      "metadata": {
        "colab": {
          "base_uri": "https://localhost:8080/",
          "height": 265
        },
        "id": "ZkSWJldgTm6o",
        "outputId": "00e073d1-2b78-40ed-e4aa-058222e958ed"
      },
      "execution_count": null,
      "outputs": [
        {
          "output_type": "display_data",
          "data": {
            "image/png": "[encoded data removed]",
            "text/plain": [
              "<Figure size 432x288 with 1 Axes>"
            ]
          },
          "metadata": {
            "needs_background": "light"
          }
        }
      ]
    },
    {
      "cell_type": "markdown",
      "source": [
        "对高维数据进行机器学习的一个办法是将回归系数降为0：任意选取的两个观测子集大概率是不相关的，这就叫 [Ridge](https://scikit-learn.org/stable/modules/generated/sklearn.linear_model.Ridge.html#sklearn.linear_model.Ridge) regression 岭回归"
      ],
      "metadata": {
        "id": "vHW9mqY8UBdN"
      }
    },
    {
      "cell_type": "code",
      "source": [
        "regr = linear_model.Ridge(alpha=.1)\n",
        "\n",
        "plt.figure()"
      ],
      "metadata": {
        "colab": {
          "base_uri": "https://localhost:8080/",
          "height": 50
        },
        "id": "mvTY3MsHTw53",
        "outputId": "2ea2859d-51f4-4566-8203-90658cb47949"
      },
      "execution_count": null,
      "outputs": [
        {
          "output_type": "execute_result",
          "data": {
            "text/plain": [
              "<Figure size 432x288 with 0 Axes>"
            ]
          },
          "metadata": {},
          "execution_count": 17
        },
        {
          "output_type": "display_data",
          "data": {
            "text/plain": [
              "<Figure size 432x288 with 0 Axes>"
            ]
          },
          "metadata": {}
        }
      ]
    },
    {
      "cell_type": "code",
      "source": [
        "np.random.seed(0)\n",
        "for _ in range(6):\n",
        "    this_X = .1 * np.random.normal(size=(2, 1)) + X\n",
        "    regr.fit(this_X, y)\n",
        "    plt.plot(test, regr.predict(test))\n",
        "    plt.scatter(this_X, y, s=3)"
      ],
      "metadata": {
        "colab": {
          "base_uri": "https://localhost:8080/",
          "height": 265
        },
        "id": "FZlRXvuzUjzY",
        "outputId": "137578e3-6ad6-4ea3-92b4-e0791b378dd6"
      },
      "execution_count": null,
      "outputs": [
        {
          "output_type": "display_data",
          "data": {
            "image/png": "[encoded data removed]",
            "text/plain": [
              "<Figure size 432x288 with 1 Axes>"
            ]
          },
          "metadata": {
            "needs_background": "light"
          }
        }
      ]
    },
    {
      "cell_type": "markdown",
      "source": [
        "这就是方差/偏置权衡的一个例子：岭回归的惩罚系数`alpha`越大，偏置`bias`越大、`variance`方差越小。\n",
        "\n",
        "我们可以选出一个`alpha`来最小化剩余的误差，这里用的是糖尿病数据集而不是我们的合成数据："
      ],
      "metadata": {
        "id": "92dWYQO_UsMK"
      }
    },
    {
      "cell_type": "code",
      "source": [
        "alphas = np.logspace(-4, -1, 6)\n",
        "print([regr.set_params(alpha=alpha)\n",
        "           .fit(diabetes_X_train, diabetes_y_train)\n",
        "           .score(diabetes_X_test, diabetes_y_test)\n",
        "       for alpha in alphas])"
      ],
      "metadata": {
        "colab": {
          "base_uri": "https://localhost:8080/"
        },
        "id": "_JuptasbV33p",
        "outputId": "8e65941e-098f-4da8-c19f-8ae453cba66b"
      },
      "execution_count": null,
      "outputs": [
        {
          "output_type": "stream",
          "name": "stdout",
          "text": [
            "[0.5851110683883533, 0.5852073015444674, 0.585467754069849, 0.5855512036503914, 0.583071708555416, 0.570589994372801]\n"
          ]
        }
      ]
    },
    {
      "cell_type": "markdown",
      "source": [
        " > **注意：**\n",
        " >\n",
        " > **过拟合overfitting**：模型捕捉了过多的噪声，而失去了对新来数据的泛化能力\n",
        " \n",
        " > **[正则数regularization](https://en.wikipedia.org/wiki/Regularization_%28machine_learning%29)**：岭回归引入的偏置"
      ],
      "metadata": {
        "id": "RsUpm5XYVguh"
      }
    },
    {
      "cell_type": "markdown",
      "source": [
        "### Sparsity 稀疏"
      ],
      "metadata": {
        "id": "fHXnhALeWnUH"
      }
    },
    {
      "cell_type": "markdown",
      "source": [
        "**只拟合特征1和2**\n",
        "\n",
        "[![](https://scikit-learn.org/stable/_images/sphx_glr_plot_ols_3d_001.png)](https://scikit-learn.org/stable/auto_examples/linear_model/plot_ols_3d.html)\n",
        "[![](https://scikit-learn.org/stable/_images/sphx_glr_plot_ols_3d_003.png)](https://scikit-learn.org/stable/auto_examples/linear_model/plot_ols_3d.html)\n",
        "[![](https://scikit-learn.org/stable/_images/sphx_glr_plot_ols_3d_002.png)](https://scikit-learn.org/stable/auto_examples/linear_model/plot_ols_3d.html)"
      ],
      "metadata": {
        "id": "DPeYuvGsWulX"
      }
    },
    {
      "cell_type": "markdown",
      "source": [
        " > **注意**：完整的糖尿病数据集包括11维（10个特征变量和一个目标变量），很难建立一个直观的感觉，但记住这是一个相当稀疏的空间可能是有用的。"
      ],
      "metadata": {
        "id": "rfKJiX40GSID"
      }
    },
    {
      "cell_type": "markdown",
      "source": [
        "我们可以看到，尽管特征2与整个模型有种很强的相关性，但考虑特征1则会发现他只能提供很少的有关`y`的信息。"
      ],
      "metadata": {
        "id": "dZpNEdoRHGMR"
      }
    },
    {
      "cell_type": "markdown",
      "source": [
        "为了改善问题的求解条件（即缓解[维度灾难](https://scikit-learn.org/stable/tutorial/statistical_inference/supervised_learning.html#curse-of-dimensionality)），只选择含有效信息多的特征而将不含信息的特征（如特征2）全部置为0。对于岭回归，它会减少这些不含信息特征的作用，但不是置为0；另一种惩罚方法，Lasso回归（Least Absolute Shrinkage and selection operator）可以将一些系数置为0。这样的叫做稀疏方法，稀疏可以被视为奥卡姆剃刀原理的应用：更喜欢简单的模型。"
      ],
      "metadata": {
        "id": "ORJciFOxHXm7"
      }
    },
    {
      "cell_type": "code",
      "source": [
        "regr = linear_model.Lasso()\n",
        "scores = [regr.set_params(alpha=alpha)\n",
        "              .fit(diabetes_X_train, diabetes_y_train)\n",
        "              .score(diabetes_X_test, diabetes_y_test)\n",
        "          for alpha in alphas]\n",
        "best_alpha = alphas[scores.index(max(scores))]\n",
        "regr.alpha = best_alpha\n",
        "regr.fit(diabetes_X_train, diabetes_y_train)"
      ],
      "metadata": {
        "colab": {
          "base_uri": "https://localhost:8080/"
        },
        "id": "85Dssab-HXRs",
        "outputId": "365c01de-9688-486e-ec42-8989b68340a5"
      },
      "execution_count": null,
      "outputs": [
        {
          "output_type": "execute_result",
          "data": {
            "text/plain": [
              "Lasso(alpha=0.025118864315095794)"
            ]
          },
          "metadata": {},
          "execution_count": 20
        }
      ]
    },
    {
      "cell_type": "code",
      "source": [
        "print(regr.coef_)"
      ],
      "metadata": {
        "colab": {
          "base_uri": "https://localhost:8080/"
        },
        "id": "-jCpfF2KVgR-",
        "outputId": "9b9a9e4d-ced3-4e69-f33b-6b9eed19771c"
      },
      "execution_count": null,
      "outputs": [
        {
          "output_type": "stream",
          "name": "stdout",
          "text": [
            "[   0.         -212.43764548  517.19478111  313.77959962 -160.8303982\n",
            "   -0.         -187.19554705   69.38229038  508.66011217   71.84239008]\n"
          ]
        }
      ]
    },
    {
      "cell_type": "markdown",
      "source": [
        " > **解决同一问题的不同算法**\n",
        " >\n",
        " > 不同算法可用于解决同一数学问题，例如scikit-learn中的`Lasso`对象用[坐标下降法](https://en.wikipedia.org/wiki/Coordinate_descent)解决了lasso回归问题，这在大数据集上很高效。但scikit-learn中也提供了[LassoLars](https://scikit-learn.org/stable/modules/generated/sklearn.linear_model.LassoLars.html#sklearn.linear_model.LassoLars)对象，使用的是LARS算法，它对权重向量的估计结果非常稀疏的问题较高效（即观测样本很少的问题）"
      ],
      "metadata": {
        "id": "CnjtJ9zGI-Hp"
      }
    },
    {
      "cell_type": "markdown",
      "source": [
        "### Classification 分类"
      ],
      "metadata": {
        "id": "tm1wtW_PKBXE"
      }
    },
    {
      "cell_type": "markdown",
      "source": [
        "对分类问题，例如标记[鸢尾花](https://en.wikipedia.org/wiki/Iris_flower_data_set)的任务中，线性回归并不是正确的方法，因为它会给给远离决策边界的点更大的权重（下图）；一种线性的实现方法是拟合sigmoid函数或者logistic函数（下图）：\n"
      ],
      "metadata": {
        "id": "khG_-QZbKN76"
      }
    },
    {
      "cell_type": "markdown",
      "source": [
        "\n",
        "[![](https://scikit-learn.org/stable/_images/sphx_glr_plot_logistic_001.png)](https://scikit-learn.org/stable/auto_examples/linear_model/plot_logistic.html)"
      ],
      "metadata": {
        "id": "wboYUj7iK5BG"
      }
    },
    {
      "cell_type": "markdown",
      "source": [
        "$y=sigmoid(X\\beta-offset)+\\epsilon=\\frac{1}{1+exp(-X\\beta+offset)}+\\epsilon$"
      ],
      "metadata": {
        "id": "HJgGCnXkK9_F"
      }
    },
    {
      "cell_type": "code",
      "source": [
        "log = linear_model.LogisticRegression(C=1e5)\n",
        "log.fit(iris_X_train, iris_y_train)"
      ],
      "metadata": {
        "colab": {
          "base_uri": "https://localhost:8080/"
        },
        "id": "Mmp8ZhaILaiC",
        "outputId": "a52d2cfb-4b5b-4197-e36b-fb2f8e5e3d59"
      },
      "execution_count": null,
      "outputs": [
        {
          "output_type": "execute_result",
          "data": {
            "text/plain": [
              "LogisticRegression(C=100000.0)"
            ]
          },
          "metadata": {},
          "execution_count": 22
        }
      ]
    },
    {
      "cell_type": "markdown",
      "source": [
        "这叫[LogisticRegression](https://scikit-learn.org/stable/modules/generated/sklearn.linear_model.LogisticRegression.html#sklearn.linear_model.LogisticRegression)\n",
        "\n",
        "[![](https://scikit-learn.org/stable/_images/sphx_glr_plot_iris_logistic_001.png)](https://scikit-learn.org/stable/auto_examples/linear_model/plot_iris_logistic.html)"
      ],
      "metadata": {
        "id": "qU1y3R6HLd_g"
      }
    },
    {
      "cell_type": "markdown",
      "source": [
        "> **多分类问题**\n",
        ">\n",
        "> 若你有多个类别需要预测，一种常用方法是你和一个one-versus-all分类器，然后用投票决定最终结果。\n"
      ],
      "metadata": {
        "id": "OZDFa2E6LrVR"
      }
    },
    {
      "cell_type": "markdown",
      "source": [
        "> **用Logistic回归 收缩Shrinkage和稀疏sparsity**\n",
        "> \n",
        "> 参数C控制了[LogisticRegression](https://scikit-learn.org/stable/modules/generated/sklearn.linear_model.LogisticRegression.html#sklearn.linear_model.LogisticRegression/)对象的正则化程度：C大则正则化程度低;penalty=\"l2\" 引入[收缩](https://scikit-learn.org/stable/tutorial/statistical_inference/supervised_learning.html#shrinkage)(即，非稀疏系数)，而 penalty=\"l1\"引入[稀疏性](https://scikit-learn.org/stable/tutorial/statistical_inference/supervised_learning.html#sparsity)。"
      ],
      "metadata": {
        "id": "unems-1lMEQV"
      }
    },
    {
      "cell_type": "markdown",
      "source": [
        "> **练习**\n",
        ">\n",
        "> 尝试用最邻近算法和线性模型对手写数字数据集进行分类，留下最后10%的数据作为测试机集，测试预测性能。\n",
        "> 相关代码可以在[这里下载](https://scikit-learn.org/stable/_downloads/e4d278c5c3a8450d66b5dd01a57ae923/plot_digits_classification_exercise.py)"
      ],
      "metadata": {
        "id": "uUT683UHNAT_"
      }
    },
    {
      "cell_type": "code",
      "source": [
        "from sklearn import datasets, neighbors, linear_model\n",
        "\n",
        "X_digits, y_digits = datasets.load_digits(return_X_y=True)\n",
        "X_digits = X_digits / X_digits.max()"
      ],
      "metadata": {
        "id": "sUBsRFGlNY76"
      },
      "execution_count": null,
      "outputs": []
    },
    {
      "cell_type": "markdown",
      "source": [
        "## Support vector machines (SVMs)"
      ],
      "metadata": {
        "id": "oehyatPCJ--k"
      }
    },
    {
      "cell_type": "markdown",
      "source": [
        "### Linear SVMs 线性支持向量机"
      ],
      "metadata": {
        "id": "-NLO1HwPNjvu"
      }
    },
    {
      "cell_type": "markdown",
      "source": [
        "[支持向量机（Support Vector Machine）](https://scikit-learn.org/stable/modules/svm.html#svm)属于判别式模型家族：尝试找到一组样例的组合，构造出一个超平面，能够最大化两个类之间的间隔。正则化由参数`C`控制：`C`较小表示间隔由划分直线附近的大量点计算得到（正则化程度强）；`C`较大表示间隔由划分直线附近的少数点计算（正则化程度弱）。"
      ],
      "metadata": {
        "id": "T0XTgjFNNpnB"
      }
    },
    {
      "cell_type": "markdown",
      "source": [
        "**Unregularized SVM 未正则化的SVM**\n",
        "\n",
        "[![未正则化 Unregularized SVM](https://scikit-learn.org/stable/_images/sphx_glr_plot_svm_margin_001.png)](https://scikit-learn.org/stable/auto_examples/svm/plot_svm_margin.html)\n",
        "\n",
        "**Regularized SVM (default) 正则化的SVM（默认参数C）**\n",
        "[![Regularized SVM (default)](https://scikit-learn.org/stable/_images/sphx_glr_plot_svm_margin_002.png)](https://scikit-learn.org/stable/auto_examples/svm/plot_svm_margin.html)"
      ],
      "metadata": {
        "id": "fm2xiXxRPjXg"
      }
    },
    {
      "cell_type": "markdown",
      "source": [
        "> **例子：**\n",
        ">\n",
        "> [Iris鸢尾花数据集上绘制不同SVM分类器的结果](https://scikit-learn.org/stable/auto_examples/svm/plot_iris_svc.html#sphx-glr-auto-examples-svm-plot-iris-svc-py)"
      ],
      "metadata": {
        "id": "jRsB5mnRQCQT"
      }
    },
    {
      "cell_type": "markdown",
      "source": [
        "支持向量机可用于：\n",
        "\n",
        "*  回归：[SVR](https://scikit-learn.org/stable/modules/generated/sklearn.svm.SVR.html#sklearn.svm.SVR)，即支持向量回归（Support Vector Regression）；\n",
        "*  分类：[SVC](https://scikit-learn.org/stable/modules/generated/sklearn.svm.SVC.html#sklearn.svm.SVC),即支持向量分类（Support Vector Classification）"
      ],
      "metadata": {
        "id": "sX_oVi85QMnl"
      }
    },
    {
      "cell_type": "code",
      "source": [
        "from sklearn import svm\n",
        "svc = svm.SVC(kernel='linear')\n",
        "svc.fit(iris_X_train, iris_y_train)"
      ],
      "metadata": {
        "colab": {
          "base_uri": "https://localhost:8080/"
        },
        "id": "Tb1i8_TFQrZB",
        "outputId": "af9ccaff-1011-41e2-9a11-e9bad9a9a94e"
      },
      "execution_count": null,
      "outputs": [
        {
          "output_type": "execute_result",
          "data": {
            "text/plain": [
              "SVC(kernel='linear')"
            ]
          },
          "metadata": {},
          "execution_count": 24
        }
      ]
    },
    {
      "cell_type": "markdown",
      "source": [
        "> **警告：标准化数据**\n",
        "> 对很多估计器，包括SVMs，要想得到一个好的预测结果，对数据进行标准化unit standard deviation是必须的。"
      ],
      "metadata": {
        "id": "QVUfU8mbQvjg"
      }
    },
    {
      "cell_type": "markdown",
      "source": [
        "### 使用核函数"
      ],
      "metadata": {
        "id": "kZXwBC7VOD1o"
      }
    },
    {
      "cell_type": "markdown",
      "source": [
        "各个类别的数据在特征空间的分布不总是线性的，解决方法是构造一个非线性（可能是多项式）函数。实现方法是核函数，可以认为他通过在观测样本中加入核函数从而获得了决策的能力。"
      ],
      "metadata": {
        "id": "L3slVDmuRvY8"
      }
    },
    {
      "cell_type": "markdown",
      "source": [
        "### Linear kernel 线性核函数"
      ],
      "metadata": {
        "id": "YzZBtyrMOJHR"
      }
    },
    {
      "cell_type": "code",
      "source": [
        "svc = svm.SVC(kernel='linear')"
      ],
      "metadata": {
        "id": "neqNrdSHTQeH"
      },
      "execution_count": null,
      "outputs": []
    },
    {
      "cell_type": "markdown",
      "source": [
        "[![](https://scikit-learn.org/stable/_images/sphx_glr_plot_svm_kernels_001.png)](https://scikit-learn.org/stable/auto_examples/svm/plot_svm_kernels.html)"
      ],
      "metadata": {
        "id": "JUGZ1OsmTRuK"
      }
    },
    {
      "cell_type": "markdown",
      "source": [
        "### Polynomial kernel 多项式核函数"
      ],
      "metadata": {
        "id": "mklKnv0QOM_I"
      }
    },
    {
      "cell_type": "code",
      "source": [
        "svc = svm.SVC(kernel='poly',\n",
        "              degree=3)\n",
        "# degree: polynomial degree"
      ],
      "metadata": {
        "id": "a-R2WobsTXg2"
      },
      "execution_count": null,
      "outputs": []
    },
    {
      "cell_type": "markdown",
      "source": [
        "[![](https://scikit-learn.org/stable/_images/sphx_glr_plot_svm_kernels_002.png)](https://scikit-learn.org/stable/auto_examples/svm/plot_svm_kernels.html)"
      ],
      "metadata": {
        "id": "cAcA9ZF4TarI"
      }
    },
    {
      "cell_type": "markdown",
      "source": [
        "### RBF kernel 径向基核函数（Radial Basis Function）"
      ],
      "metadata": {
        "id": "-ET0_qXpOQZb"
      }
    },
    {
      "cell_type": "code",
      "source": [
        "svc = svm.SVC(kernel='rbf')\n",
        "# gamma: inverse of size of\n",
        "# radial kernel"
      ],
      "metadata": {
        "id": "n_1dvMp3Tij_"
      },
      "execution_count": null,
      "outputs": []
    },
    {
      "cell_type": "markdown",
      "source": [
        "[![](https://scikit-learn.org/stable/_images/sphx_glr_plot_svm_kernels_003.png)](https://scikit-learn.org/stable/auto_examples/svm/plot_svm_kernels.html)"
      ],
      "metadata": {
        "id": "lVzrZnSuTmGY"
      }
    },
    {
      "cell_type": "markdown",
      "source": [
        "> Interactive example 交互式样例\n",
        ">\n",
        "> 前往[SVM GUI](https://scikit-learn.org/stable/auto_examples/applications/svm_gui.html#sphx-glr-auto-examples-applications-svm-gui-py)页面下载`svm_gui.py`文件；用右侧和左按钮添加两个类的数据点，拟合模型并更改参数和数据。"
      ],
      "metadata": {
        "id": "zP38BFqsTxzA"
      }
    },
    {
      "cell_type": "markdown",
      "source": [
        "> **练习：**\n",
        "> \n",
        "> 尝试用SVMs，鸢尾花 iris 数据集的前两个特征对第1、2类进行分类，留10%的数据作为测试集，测试模型的预测性能。\n",
        ">\n",
        "> **警告：**数据是按照类型排序的，不要直接留最后的10%数据，那只有一个类型。\n",
        ">\n",
        "> **提示:**可以在网格上使用`decision_function`方法来获得直觉\n",
        ">\n",
        "> 答案可以在[这里](https://scikit-learn.org/stable/_downloads/a3ad6892094cf4c9641b7b11f9263348/plot_iris_exercise.py)下载"
      ],
      "metadata": {
        "id": "nLmKvdAMUL86"
      }
    },
    {
      "cell_type": "code",
      "source": [
        "X = iris.data\n",
        "y = iris.target\n",
        "\n",
        "X = X[y != 0, :2]\n",
        "y = y[y != 0]"
      ],
      "metadata": {
        "id": "pdy8rd-IVIYx"
      },
      "execution_count": null,
      "outputs": []
    },
    {
      "cell_type": "markdown",
      "source": [
        "[![](https://scikit-learn.org/stable/_images/sphx_glr_plot_iris_dataset_001.png)](https://scikit-learn.org/stable/auto_examples/datasets/plot_iris_dataset.html)"
      ],
      "metadata": {
        "id": "ITELjUYzVSt0"
      }
    },
    {
      "cell_type": "markdown",
      "source": [
        "# Model selection: choosing estimators and their parameters 模型选择：选择估计器和参数 [链接](https://scikit-learn.org/stable/tutorial/statistical_inference/model_selection.html)"
      ],
      "metadata": {
        "id": "cHYHju1LJjx0"
      }
    },
    {
      "cell_type": "markdown",
      "source": [
        "## Score, and cross-validated scores 评分、交叉验证评分"
      ],
      "metadata": {
        "id": "nkC-v8WHKFfE"
      }
    },
    {
      "cell_type": "markdown",
      "source": [
        "如我们所见，每个estimator都暴露了`score`方法，用于评价fit（或者prediction）的质量，**score越大越好**。"
      ],
      "metadata": {
        "id": "JYEyl10LWuAu"
      }
    },
    {
      "cell_type": "code",
      "source": [
        "from sklearn import datasets, svm\n",
        "X_digits, y_digits = datasets.load_digits(return_X_y=True)\n",
        "svc = svm.SVC(C=1, kernel='linear')\n",
        "svc.fit(X_digits[:-100], y_digits[:-100]).score(X_digits[-100:], y_digits[-100:])\n",
        "# 先fit了后100行数据，然后对这后100行数据上的fit效果进行评分"
      ],
      "metadata": {
        "colab": {
          "base_uri": "https://localhost:8080/"
        },
        "id": "7EIVyUqEXYZE",
        "outputId": "1aa5d4e4-8922-4bd5-a4af-80b2e3578d74"
      },
      "execution_count": 6,
      "outputs": [
        {
          "output_type": "execute_result",
          "data": {
            "text/plain": [
              "0.98"
            ]
          },
          "metadata": {},
          "execution_count": 6
        }
      ]
    },
    {
      "cell_type": "markdown",
      "source": [
        "为了更好的评价预测精度（可以大致认为是模型fit训练的好坏），可以连续地将数据划分为用于训练和预测的*folds折*；叫做k折交叉验证（[kFold](https://scikit-learn.org/stable/modules/generated/sklearn.model_selection.KFold.html#sklearn.model_selection.KFold) crossvalidation）"
      ],
      "metadata": {
        "id": "057wF6vJXwjn"
      }
    },
    {
      "cell_type": "code",
      "source": [
        "import numpy as np\n",
        "X_folds = np.array_split(X_digits, 3)\n",
        "y_folds = np.array_split(y_digits, 3)\n",
        "scores = list()\n",
        "for k in range(3):\n",
        "    # We use 'list' to copy, in order to 'pop' later on\n",
        "    X_train = list(X_folds)\n",
        "    X_test = X_train.pop(k)\n",
        "    X_train = np.concatenate(X_train)\n",
        "    y_train = list(y_folds)\n",
        "    y_test = y_train.pop(k)\n",
        "    y_train = np.concatenate(y_train)\n",
        "    scores.append(svc.fit(X_train, y_train).score(X_test, y_test))\n",
        "print(scores)"
      ],
      "metadata": {
        "colab": {
          "base_uri": "https://localhost:8080/"
        },
        "id": "G7Gz0hJ8YQM_",
        "outputId": "7ca1e467-be9e-446c-a2c8-5b48c7b8da6a"
      },
      "execution_count": 7,
      "outputs": [
        {
          "output_type": "stream",
          "name": "stdout",
          "text": [
            "[0.9348914858096828, 0.9565943238731218, 0.9398998330550918]\n"
          ]
        }
      ]
    },
    {
      "cell_type": "markdown",
      "source": [
        "## Cross-validation generators"
      ],
      "metadata": {
        "id": "VlnxKRmbKFw8"
      }
    },
    {
      "cell_type": "markdown",
      "source": [
        "Scikit-learn中有一系列类，可用于为流行的交叉验证策略生成训练集/测试集地索引列表。\n",
        "\n",
        "这些类暴露了一个`split`方法，用于接收要被划分的输入数据集，然后返回对于所选交叉验证策略的每次迭代的训练集、测试集的索引列表。\n",
        "`split`方法的使用。"
      ],
      "metadata": {
        "id": "hDKkeR2LVqCo"
      }
    },
    {
      "cell_type": "code",
      "source": [
        "from sklearn.model_selection import KFold, cross_val_score\n",
        "X = [\"a\", \"a\", \"a\", \"b\", \"b\", \"c\", \"c\", \"c\", \"c\", \"c\"]\n",
        "k_fold = KFold(n_splits=5)\n",
        "for train_indices, test_indices in k_fold.split(X):\n",
        "     print('Train: %s | test: %s' % (train_indices, test_indices))"
      ],
      "metadata": {
        "colab": {
          "base_uri": "https://localhost:8080/"
        },
        "id": "zhKVbM4ZZSDl",
        "outputId": "317e9186-56e8-4580-d1f9-2858a816a2a4"
      },
      "execution_count": 8,
      "outputs": [
        {
          "output_type": "stream",
          "name": "stdout",
          "text": [
            "Train: [2 3 4 5 6 7 8 9] | test: [0 1]\n",
            "Train: [0 1 4 5 6 7 8 9] | test: [2 3]\n",
            "Train: [0 1 2 3 6 7 8 9] | test: [4 5]\n",
            "Train: [0 1 2 3 4 5 8 9] | test: [6 7]\n",
            "Train: [0 1 2 3 4 5 6 7] | test: [8 9]\n"
          ]
        }
      ]
    },
    {
      "cell_type": "markdown",
      "source": [
        "在此基础上，执行交叉验证就很方便了："
      ],
      "metadata": {
        "id": "ZuarP1SAZamw"
      }
    },
    {
      "cell_type": "code",
      "source": [
        "[svc.fit(X_digits[train], y_digits[train]).score(X_digits[test], y_digits[test])\n",
        " for train, test in k_fold.split(X_digits)]"
      ],
      "metadata": {
        "colab": {
          "base_uri": "https://localhost:8080/"
        },
        "id": "8DsPPR1SZd9D",
        "outputId": "d104245f-4f06-4780-fcfe-b2ecd931b4e5"
      },
      "execution_count": 9,
      "outputs": [
        {
          "output_type": "execute_result",
          "data": {
            "text/plain": [
              "[0.9638888888888889,\n",
              " 0.9222222222222223,\n",
              " 0.9637883008356546,\n",
              " 0.9637883008356546,\n",
              " 0.9303621169916435]"
            ]
          },
          "metadata": {},
          "execution_count": 9
        }
      ]
    },
    {
      "cell_type": "markdown",
      "source": [
        ""
      ],
      "metadata": {
        "id": "hurJ6vEWZlDo"
      }
    },
    {
      "cell_type": "markdown",
      "source": [
        "交叉验证的评分可以直接用 [cross_val_score](https://scikit-learn.org/stable/modules/generated/sklearn.model_selection.cross_val_score.html#sklearn.model_selection.cross_val_score) 计算得到，给定一个估计器，交叉验证对象和输入数据，[cross_val_score](https://scikit-learn.org/stable/modules/generated/sklearn.model_selection.cross_val_score.html#sklearn.model_selection.cross_val_score) 将数据集进行划分，用训练集进行训练，在交叉验证的每个测试集上计算评分。\n",
        "\n",
        "默认情况下，估计器的`score`方法用于计算单独的评分。\n",
        "\n",
        "参考[metrics module ](https://scikit-learn.org/stable/modules/metrics.html#metrics) 了解更多关于评分的方法。"
      ],
      "metadata": {
        "id": "ls08xnVNcs2F"
      }
    },
    {
      "cell_type": "code",
      "source": [
        "cross_val_score(svc, X_digits, y_digits, cv=k_fold, n_jobs=-1)"
      ],
      "metadata": {
        "colab": {
          "base_uri": "https://localhost:8080/"
        },
        "id": "rZWB4-lJdiRv",
        "outputId": "a0069f13-2b24-4b03-f71f-42d9b48a3810"
      },
      "execution_count": 10,
      "outputs": [
        {
          "output_type": "execute_result",
          "data": {
            "text/plain": [
              "array([0.96388889, 0.92222222, 0.9637883 , 0.9637883 , 0.93036212])"
            ]
          },
          "metadata": {},
          "execution_count": 10
        }
      ]
    },
    {
      "cell_type": "markdown",
      "source": [
        "`n_jobs=-1`表示调用电脑的所有CPU进行计算。\n",
        "\n",
        "另外，`scoring`参数可以用于指定其他的评分算法。"
      ],
      "metadata": {
        "id": "DbSjeGr2dl8F"
      }
    },
    {
      "cell_type": "code",
      "source": [
        "cross_val_score(svc, X_digits, y_digits, cv=k_fold,\n",
        "                scoring='precision_macro')"
      ],
      "metadata": {
        "colab": {
          "base_uri": "https://localhost:8080/"
        },
        "id": "_PDk4cCid2di",
        "outputId": "5cd5e3d4-9456-4722-a4d1-e4fd30d58b2f"
      },
      "execution_count": 11,
      "outputs": [
        {
          "output_type": "execute_result",
          "data": {
            "text/plain": [
              "array([0.96578289, 0.92708922, 0.96681476, 0.96362897, 0.93192644])"
            ]
          },
          "metadata": {},
          "execution_count": 11
        }
      ]
    },
    {
      "cell_type": "markdown",
      "source": [
        "**Cross-validation generators 交叉验证生成器**\n",
        "* **[KFold](https://scikit-learn.org/stable/modules/generated/sklearn.model_selection.KFold.html#sklearn.model_selection.KFold) (n_splits, shuffle, random_state)**\n",
        "\n",
        "  划分为k折，其中k-1折作为训练集，剩下的一个作为测试集；\n",
        "\n",
        "* **[StratifiedKFold](https://scikit-learn.org/stable/modules/generated/sklearn.model_selection.StratifiedKFold.html#sklearn.model_selection.StratifiedKFold) (n_splits, shuffle, random_state)**\n",
        "\n",
        "  与k折相同，但保留每个折内的类分布；\n",
        "\n",
        "* **[GroupKFold](https://scikit-learn.org/stable/modules/generated/sklearn.model_selection.GroupKFold.html#sklearn.model_selection.GroupKFold) (n_splits)**\n",
        "\n",
        "  确保同一组不同时出现在测试和训练集中。\n",
        "***\n",
        "*  **[ShuffleSplit](https://scikit-learn.org/stable/modules/generated/sklearn.model_selection.ShuffleSplit.html#sklearn.model_selection.ShuffleSplit) (n_splits, test_size, train_size, random_state)**\n",
        "\n",
        "  基于随机排列生成训练集、测试集；\n",
        "* **[StratifiedShuffleSplit](https://scikit-learn.org/stable/modules/generated/sklearn.model_selection.StratifiedShuffleSplit.html#sklearn.model_selection.StratifiedShuffleSplit)**\n",
        "\n",
        "  与ShuffleSplit相同，但保留每个折内的类分布；\n",
        "* **[GroupShuffleSplit](https://scikit-learn.org/stable/modules/generated/sklearn.model_selection.GroupShuffleSplit.html#sklearn.model_selection.GroupShuffleSplit)**\n",
        "\n",
        "  确保同一组不同时出现在测试和训练集中。\n",
        "***\n",
        "* **[LeaveOneGroupOut](https://scikit-learn.org/stable/modules/generated/sklearn.model_selection.LeaveOneGroupOut.html#sklearn.model_selection.LeaveOneGroupOut) ()**\n",
        "\n",
        "  每次留下一组观测样本；\n",
        "* **[LeavePGroupsOut](https://scikit-learn.org/stable/modules/generated/sklearn.model_selection.LeavePGroupsOut.html#sklearn.model_selection.LeavePGroupsOut) (n_groups)**\n",
        "\n",
        "  每次留下p组观测样本；\n",
        "* **[LeaveOneOut](https://scikit-learn.org/stable/modules/generated/sklearn.model_selection.LeaveOneOut.html#sklearn.model_selection.LeaveOneOut) ()**\n",
        "\n",
        "  每次留些一个观测样本；\n",
        "***\n",
        "* **[LeavePOut](https://scikit-learn.org/stable/modules/generated/sklearn.model_selection.LeavePOut.html#sklearn.model_selection.LeavePOut) (p)**\n",
        "\n",
        "  Leave P observations out.\n",
        "* **[PredefinedSplit](https://scikit-learn.org/stable/modules/generated/sklearn.model_selection.PredefinedSplit.html#sklearn.model_selection.PredefinedSplit)**\n",
        "  基于预定义的划分生成训练集和测试集。"
      ],
      "metadata": {
        "id": "_QZX0rIQd4vn"
      }
    },
    {
      "cell_type": "markdown",
      "source": [
        "> **练习：**\n",
        "> \n",
        "> 在手写数字数据集上，将线性核函数的SVC估计器的交叉验证评分绘制在曲线图上，其中参数`C`作为变量（1-10的对数网格）"
      ],
      "metadata": {
        "id": "jGiD5D1Tf9Qi"
      }
    },
    {
      "cell_type": "code",
      "source": [
        "import numpy as np\n",
        "from sklearn.model_selection import cross_val_score\n",
        "from sklearn import datasets, svm\n",
        "\n",
        "X, y = datasets.load_digits(return_X_y=True)\n",
        "\n",
        "svc = svm.SVC(kernel=\"linear\")\n",
        "C_s = np.logspace(-10, 0, 10)\n",
        "\n",
        "scores = list()\n",
        "scores_std = list()"
      ],
      "metadata": {
        "id": "6k6toHb5ggdF"
      },
      "execution_count": 12,
      "outputs": []
    },
    {
      "cell_type": "markdown",
      "source": [
        "[![](https://scikit-learn.org/stable/_images/sphx_glr_plot_cv_digits_001.png)](https://scikit-learn.org/stable/auto_examples/exercises/plot_cv_digits.html)\n",
        "\n",
        "**答案：**[基于手写数字数据集的交叉验证](https://scikit-learn.org/stable/auto_examples/exercises/plot_cv_digits.html#sphx-glr-auto-examples-exercises-plot-cv-digits-py)"
      ],
      "metadata": {
        "id": "ceNEyLNrgkgR"
      }
    },
    {
      "cell_type": "markdown",
      "source": [
        "## Grid-search and cross-validated estimators"
      ],
      "metadata": {
        "id": "JL24aOXyKF9k"
      }
    },
    {
      "cell_type": "markdown",
      "source": [
        "### Grid-search 网格搜索"
      ],
      "metadata": {
        "id": "nlgPAwUCgvPw"
      }
    },
    {
      "cell_type": "markdown",
      "source": [
        "scikit-learn提供了一个对象，给定数据，就能计算估计器在参数网格中拟合的评分，并选择一个参数，以最大化交叉验证评分，这个对象在构建时，需要一个估计器，并最终暴露出一个估计器API："
      ],
      "metadata": {
        "id": "X2QkVnjuKLAL"
      }
    },
    {
      "cell_type": "code",
      "source": [
        "from sklearn.model_selection import GridSearchCV, cross_val_score\n",
        "Cs = np.logspace(-6, -1, 10)\n",
        "clf = GridSearchCV(estimator=svc, param_grid=dict(C=Cs),\n",
        "                   n_jobs=-1)\n",
        "clf.fit(X_digits[:1000], y_digits[:1000])  "
      ],
      "metadata": {
        "colab": {
          "base_uri": "https://localhost:8080/"
        },
        "id": "hOAcQn6QK-VX",
        "outputId": "cf81571e-5162-41ac-8f55-b6c1ccc3de1f"
      },
      "execution_count": 13,
      "outputs": [
        {
          "output_type": "execute_result",
          "data": {
            "text/plain": [
              "GridSearchCV(estimator=SVC(kernel='linear'), n_jobs=-1,\n",
              "             param_grid={'C': array([1.00000000e-06, 3.59381366e-06, 1.29154967e-05, 4.64158883e-05,\n",
              "       1.66810054e-04, 5.99484250e-04, 2.15443469e-03, 7.74263683e-03,\n",
              "       2.78255940e-02, 1.00000000e-01])})"
            ]
          },
          "metadata": {},
          "execution_count": 13
        }
      ]
    },
    {
      "cell_type": "code",
      "source": [
        "clf.best_score_      "
      ],
      "metadata": {
        "colab": {
          "base_uri": "https://localhost:8080/"
        },
        "id": "GUbe9c_mLGKS",
        "outputId": "aa2e395c-4a41-458d-f2a0-53aa19b9e27e"
      },
      "execution_count": 14,
      "outputs": [
        {
          "output_type": "execute_result",
          "data": {
            "text/plain": [
              "0.95"
            ]
          },
          "metadata": {},
          "execution_count": 14
        }
      ]
    },
    {
      "cell_type": "code",
      "source": [
        "clf.best_estimator_.C   "
      ],
      "metadata": {
        "colab": {
          "base_uri": "https://localhost:8080/"
        },
        "id": "_PElTbNxLHJr",
        "outputId": "89af43ff-5435-4066-e846-ebc6070ccb9d"
      },
      "execution_count": 15,
      "outputs": [
        {
          "output_type": "execute_result",
          "data": {
            "text/plain": [
              "0.0021544346900318843"
            ]
          },
          "metadata": {},
          "execution_count": 15
        }
      ]
    },
    {
      "cell_type": "code",
      "source": [
        "# Prediction performance on test set is not as good as on train set\n",
        "clf.score(X_digits[1000:], y_digits[1000:])   "
      ],
      "metadata": {
        "colab": {
          "base_uri": "https://localhost:8080/"
        },
        "id": "WBWXKMj-LI6a",
        "outputId": "424de738-57b4-4f4c-b204-ed2887d2cfaa"
      },
      "execution_count": 16,
      "outputs": [
        {
          "output_type": "execute_result",
          "data": {
            "text/plain": [
              "0.946047678795483"
            ]
          },
          "metadata": {},
          "execution_count": 16
        }
      ]
    },
    {
      "cell_type": "markdown",
      "source": [
        "**默认情况下：**\n",
        "\n",
        "[GridSearchCV](https://scikit-learn.org/stable/modules/generated/sklearn.model_selection.GridSearchCV.html#sklearn.model_selection.GridSearchCV)使用5折交叉验证，但若它检测到应该用分类器，而不是回归器，它将使用stratified 5-fold 交叉验证。  "
      ],
      "metadata": {
        "id": "g2h1wbX0LMSA"
      }
    },
    {
      "cell_type": "markdown",
      "source": [
        "> **Nested cross-validation 内嵌的交叉验证**"
      ],
      "metadata": {
        "id": "UXwsA3o4MORA"
      }
    },
    {
      "cell_type": "code",
      "source": [
        "cross_val_score(clf, X_digits, y_digits) "
      ],
      "metadata": {
        "colab": {
          "base_uri": "https://localhost:8080/"
        },
        "id": "hZtNY92wMY20",
        "outputId": "a9df8a47-04bd-4ac5-e52e-a024bea441f5"
      },
      "execution_count": 17,
      "outputs": [
        {
          "output_type": "execute_result",
          "data": {
            "text/plain": [
              "array([0.94722222, 0.91666667, 0.96657382, 0.97493036, 0.93593315])"
            ]
          },
          "metadata": {},
          "execution_count": 17
        }
      ]
    },
    {
      "cell_type": "markdown",
      "source": [
        "> 并行地进行了两个交叉验证循环：其中一个用的是[GridSearchCV](https://scikit-learn.org/stable/modules/generated/sklearn.model_selection.GridSearchCV.html#sklearn.model_selection.GridSearchCV)估计器，来确定`gamma`的值；另一个是`cross_val_score`来测算估计器的预测无非偏见估计`unbiased estimates`\n",
        ">"
      ],
      "metadata": {
        "id": "dhoIMOOwMaPo"
      }
    },
    {
      "cell_type": "markdown",
      "source": [
        "> **警告：**不能在并行计算（`n_jobs`≠1）中内嵌对象"
      ],
      "metadata": {
        "id": "K78XDZJpNFbx"
      }
    },
    {
      "cell_type": "markdown",
      "source": [
        "### Cross-validated estimators 交叉验证估计器"
      ],
      "metadata": {
        "id": "xq-AgC8HNXp7"
      }
    },
    {
      "cell_type": "markdown",
      "source": [
        "用交叉验证确定模型参数更高效的方式是用an algorithm-by-algorithm basis，在这种方式下，对特定的估计器，scikit-learn暴露了[交叉验证：评估估计器性能](https://scikit-learn.org/stable/modules/cross_validation.html#cross-validation)的估计器，可以自动地通过交叉验证确定模型参数"
      ],
      "metadata": {
        "id": "SG-RpgxPNblI"
      }
    },
    {
      "cell_type": "code",
      "source": [
        "from sklearn import linear_model, datasets\n",
        "lasso = linear_model.LassoCV()\n",
        "X_diabetes, y_diabetes = datasets.load_diabetes(return_X_y=True)\n",
        "lasso.fit(X_diabetes, y_diabetes)"
      ],
      "metadata": {
        "colab": {
          "base_uri": "https://localhost:8080/"
        },
        "id": "1XwN8T_wN5sS",
        "outputId": "7504a246-b5ed-4af9-8403-f62081531919"
      },
      "execution_count": 18,
      "outputs": [
        {
          "output_type": "execute_result",
          "data": {
            "text/plain": [
              "LassoCV()"
            ]
          },
          "metadata": {},
          "execution_count": 18
        }
      ]
    },
    {
      "cell_type": "code",
      "source": [
        "# The estimator chose automatically its lambda:\n",
        "lasso.alpha_"
      ],
      "metadata": {
        "colab": {
          "base_uri": "https://localhost:8080/"
        },
        "id": "AC8P4WNRN8TB",
        "outputId": "643c6814-6cf8-47bc-e509-52e1abaddc6d"
      },
      "execution_count": 19,
      "outputs": [
        {
          "output_type": "execute_result",
          "data": {
            "text/plain": [
              "0.003753767152692203"
            ]
          },
          "metadata": {},
          "execution_count": 19
        }
      ]
    },
    {
      "cell_type": "markdown",
      "source": [
        "这种估计器的名字与对应的估计器类似，只是在名称后面附加了“CV”。"
      ],
      "metadata": {
        "id": "DFntHF7iOjCr"
      }
    },
    {
      "cell_type": "markdown",
      "source": [
        "> **练习：**\n",
        ">\n",
        "> 在糖尿病数据集上，找到最佳的正则化参数alpha.\n",
        ">\n",
        "> **另外:**你对这个alpha的选择有多信任？\n",
        "> **答案：**[Cross-validation on diabetes Dataset Exercise](https://scikit-learn.org/stable/auto_examples/exercises/plot_cv_diabetes.html#sphx-glr-auto-examples-exercises-plot-cv-diabetes-py)"
      ],
      "metadata": {
        "id": "u8x43nAvOkSO"
      }
    },
    {
      "cell_type": "code",
      "source": [
        "from sklearn.linear_model import LassoCV\n",
        "from sklearn.linear_model import Lasso\n",
        "from sklearn.model_selection import KFold\n",
        "from sklearn.model_selection import GridSearchCV\n",
        "\n",
        "X, y = datasets.load_diabetes(return_X_y=True)\n",
        "X = X[:150]\n",
        "y = y[:150]"
      ],
      "metadata": {
        "id": "spxSYH75O916"
      },
      "execution_count": 20,
      "outputs": []
    },
    {
      "cell_type": "markdown",
      "source": [
        "# Unsupervised learning: seeking representations of the data [链接](https://scikit-learn.org/stable/tutorial/statistical_inference/unsupervised_learning.html) "
      ],
      "metadata": {
        "id": "S7JFx3IMJj6f"
      }
    },
    {
      "cell_type": "markdown",
      "source": [
        "> **聚类解决的问题**\n",
        ">\n",
        "> 给定鸢尾花Iris数据集，若我们知道有3种类型的鸢尾花，但没有分类学家来帮我们做标签：就可以尝试聚类——将观测样本划分为区分明显的组，叫做**簇**。"
      ],
      "metadata": {
        "id": "DKB2YnzZS1lC"
      }
    },
    {
      "cell_type": "markdown",
      "source": [
        "### K-means clustering k-means聚类"
      ],
      "metadata": {
        "id": "nsfgtuIfTY6v"
      }
    },
    {
      "cell_type": "markdown",
      "source": [
        "注意：有很多不同的聚类准则和相关的算法，其中最简单的就是[k-means聚类](https://scikit-learn.org/stable/modules/clustering.html#k-means)。\n",
        "\n",
        "[![](https://scikit-learn.org/stable/_images/sphx_glr_plot_cluster_iris_002.png)](https://scikit-learn.org/stable/auto_examples/cluster/plot_cluster_iris.html)"
      ],
      "metadata": {
        "id": "igRXmhJITdOm"
      }
    },
    {
      "cell_type": "code",
      "source": [
        "from sklearn import cluster, datasets\n",
        "X_iris, y_iris = datasets.load_iris(return_X_y=True)\n",
        "\n",
        "k_means = cluster.KMeans(n_clusters=3)\n",
        "k_means.fit(X_iris)\n",
        "print(k_means.labels_[::10])\n",
        "print(y_iris[::10])"
      ],
      "metadata": {
        "colab": {
          "base_uri": "https://localhost:8080/"
        },
        "id": "4m5dO0YzTwds",
        "outputId": "ce55a428-0666-48a8-bef2-14a722b93a6a"
      },
      "execution_count": 29,
      "outputs": [
        {
          "output_type": "stream",
          "name": "stdout",
          "text": [
            "[1 1 1 1 1 2 2 2 2 2 0 0 0 0 0]\n",
            "[0 0 0 0 0 1 1 1 1 1 2 2 2 2 2]\n"
          ]
        }
      ]
    },
    {
      "cell_type": "markdown",
      "source": [
        "> **警告：**聚类算法绝对没有保证恢复原始事实。\n",
        ">* 首先，选择正确的聚类数量很难。\n",
        ">* 其次，该算法对初始化敏感，并且可以陷入局部极小值，尽管scikit-learn用了几个技巧来缓解这个问题。"
      ],
      "metadata": {
        "id": "PRVb9PTTUGdL"
      }
    },
    {
      "cell_type": "markdown",
      "source": [
        "<figure >\n",
        "<a href=\"https://scikit-learn.org/stable/auto_examples/cluster/plot_cluster_iris.html\"><img src=\"https://scikit-learn.org/stable/_images/sphx_glr_plot_cluster_iris_003.png\" style=\"width: 252.0px; height: 189.0px;\" /></a>\n",
        "<figcaption>\n",
        "<p><span><strong>Bad initialization</strong></span></p>\n",
        "</figcaption>\n",
        "</figure>\n",
        "<figure >\n",
        "<a href=\"https://scikit-learn.org/stable/auto_examples/cluster/plot_cluster_iris.html\"><img src=\"https://scikit-learn.org/stable/_images/sphx_glr_plot_cluster_iris_001.png\" style=\"width: 252.0px; height: 189.0px;\" /></a>\n",
        "<figcaption>\n",
        "<p><span ><strong>8 clusters</strong></span></p>\n",
        "</figcaption>\n",
        "</figure>\n",
        "<figure >\n",
        "<a href=\"https://scikit-learn.org/stable/auto_examples/cluster/plot_cluster_iris.html\"><img src=\"https://scikit-learn.org/stable/_images/sphx_glr_plot_cluster_iris_004.png\" style=\"width: 252.0px; height: 189.0px;\" /></a>\n",
        "<figcaption>\n",
        "<p><span ><strong>Ground truth</strong></span></p>\n",
        "</figcaption>\n",
        "</figure>\n",
        "\n",
        "\n",
        "**不要过度解读聚类的结果**"
      ],
      "metadata": {
        "id": "NIGIbY9yUvfz"
      }
    },
    {
      "cell_type": "markdown",
      "source": [
        "> **应用示例：矢量量化**\n",
        ">\n",
        "> 一般来说，聚类，特别是KMeans，可以看作是一种选择少量样本来压缩信息的方法。这类问题一般叫[向量量化vector quantization](https://en.wikipedia.org/wiki/Vector_quantization)。例如，可以用来给一张图做色调分离："
      ],
      "metadata": {
        "id": "prFXtfMTVr3k"
      }
    },
    {
      "cell_type": "code",
      "source": [
        "import scipy as sp\n",
        "try:\n",
        "   face = sp.face(gray=True)\n",
        "except AttributeError:\n",
        "   from scipy import misc\n",
        "   face = misc.face(gray=True)\n",
        "X = face.reshape((-1, 1)) # We need an (n_sample, n_feature) array\n",
        "k_means = cluster.KMeans(n_clusters=5, n_init=1)\n",
        "k_means.fit(X)\n",
        "\n",
        "values = k_means.cluster_centers_.squeeze()\n",
        "labels = k_means.labels_\n",
        "face_compressed = np.choose(labels, values)\n",
        "face_compressed.shape = face.shape"
      ],
      "metadata": {
        "id": "hyNoObojWWip"
      },
      "execution_count": 30,
      "outputs": []
    },
    {
      "cell_type": "markdown",
      "source": [
        "Guide中给出的结果对比：\n",
        "\n",
        "<figure >\n",
        "<a href=\"https://scikit-learn.org/stable/auto_examples/cluster/plot_face_compress.html\"><img  src=\"https://scikit-learn.org/stable/_images/sphx_glr_plot_face_compress_001.png\" /></a>\n",
        "<figcaption>\n",
        "<p><span ><strong>Raw image</strong></span></p>\n",
        "</figcaption>\n",
        "</figure>\n",
        "<figure >\n",
        "<a href=\"https://scikit-learn.org/stable/auto_examples/cluster/plot_face_compress.html\"><img  src=\"https://scikit-learn.org/stable/_images/sphx_glr_plot_face_compress_003.png\" /></a>\n",
        "<figcaption>\n",
        "<p><span ><strong>K-means quantization</strong></span></p>\n",
        "</figcaption>\n",
        "</figure>\n",
        "<figure>\n",
        "<a href=\"https://scikit-learn.org/stable/auto_examples/cluster/plot_face_compress.html\"><img  src=\"https://scikit-learn.org/stable/_images/sphx_glr_plot_face_compress_002.png\" /></a>\n",
        "<figcaption>\n",
        "<p><span ><strong>Equal bins</strong></span></p>\n",
        "</figcaption>\n",
        "</figure>\n",
        "\n",
        "<figure >\n",
        "<a href=\"https://scikit-learn.org/stable/auto_examples/cluster/plot_face_compress.html\"><img src=\"https://scikit-learn.org/stable/_images/sphx_glr_plot_face_compress_004.png\" /></a>\n",
        "<figcaption>\n",
        "<p><span \"><strong>Image histogram</strong></span></p>\n",
        "</figcaption>\n",
        "</figure>"
      ],
      "metadata": {
        "id": "KZRiN4MTWaKF"
      }
    },
    {
      "cell_type": "markdown",
      "source": [
        "### Hierarchical agglomerative clustering: Ward 分层聚合聚类:**？"
      ],
      "metadata": {
        "id": "4isHD-hcXWXN"
      }
    },
    {
      "cell_type": "markdown",
      "source": [
        "[层次聚类](https://scikit-learn.org/stable/modules/clustering.html#hierarchical-clustering)方法是一种聚类分析，目标是建立具有层次结构的簇。总的来说，这种算法的各种方法主要分为两大类：\n",
        "\n",
        "\n",
        "*   **Agglomerative 聚合式：**\n",
        "\n",
        "   自底向上的方法：每个观测样本最开始自己是一个簇，簇之间逐步合并，以符合**linkage**准则。这个方法在样本数小的时候比较有趣，样本数较大时，比k-means聚类在计算上更高效。\n",
        "*   **Divisive 分列式：**\n",
        "   \n",
        "   自顶向下的方法：最开始，所有的样本都在一个簇中，随着层次的下降，逐步拆分。对需要拆分为大量簇时，这个方法又慢（从一个簇开始循环拆分），统计上又不合适。\n"
      ],
      "metadata": {
        "id": "adQJjRxHXjUT"
      }
    },
    {
      "cell_type": "markdown",
      "source": [
        "### Connectivity-constrained clustering"
      ],
      "metadata": {
        "id": "ynfwl52EZXk2"
      }
    },
    {
      "cell_type": "markdown",
      "source": [
        "在分层聚类基础上，给定一个连通图，就可以指出哪些样例可以被聚在一起，scikit-learn中的图用他们的邻接矩阵adjacency matrix表示，通常，用的是稀疏矩阵。这个方法很有用，例如在对一张图进行聚类时，用来检索连接区域（有时也称为相连成分）【搜寻连接在一起的图像区域】\n",
        "\n",
        "[![](https://scikit-learn.org/stable/_images/sphx_glr_plot_coin_ward_segmentation_001.png)](https://scikit-learn.org/stable/auto_examples/cluster/plot_coin_ward_segmentation.html)"
      ],
      "metadata": {
        "id": "_ljaCpMhZef6"
      }
    },
    {
      "cell_type": "code",
      "source": [
        "from skimage.data import coins\n",
        "from scipy.ndimage.filters import gaussian_filter\n",
        "from skimage.transform import rescale\n",
        "rescaled_coins = rescale(\n",
        "    gaussian_filter(coins(), sigma=2),\n",
        "    0.2, mode='reflect', anti_aliasing=False, multichannel=False\n",
        ")\n",
        "X = np.reshape(rescaled_coins, (-1, 1))"
      ],
      "metadata": {
        "id": "VAS7wp03ab8X"
      },
      "execution_count": null,
      "outputs": []
    },
    {
      "cell_type": "markdown",
      "source": [
        "我们需要一个矢量化的图像，`rescaled_coins`是一个降维后的硬币图像，用于加速进程："
      ],
      "metadata": {
        "id": "rKaMwW7taeuv"
      }
    },
    {
      "cell_type": "code",
      "source": [
        "from sklearn.feature_extraction import grid_to_graph\n",
        "connectivity = grid_to_graph(*rescaled_coins.shape)"
      ],
      "metadata": {
        "id": "7gJ4-cV6avuq"
      },
      "execution_count": null,
      "outputs": []
    },
    {
      "cell_type": "markdown",
      "source": [
        "定义数据的图像结构，与相邻像素相连的像素："
      ],
      "metadata": {
        "id": "SBLvkxypaxUP"
      }
    },
    {
      "cell_type": "code",
      "source": [
        "n_clusters = 27  # number of regions\n",
        "\n",
        "from sklearn.cluster import AgglomerativeClustering\n",
        "ward = AgglomerativeClustering(n_clusters=n_clusters, linkage='ward',\n",
        "                               connectivity=connectivity)\n",
        "ward.fit(X)"
      ],
      "metadata": {
        "id": "xATBENvua4tc"
      },
      "execution_count": null,
      "outputs": []
    },
    {
      "cell_type": "code",
      "source": [
        "label = np.reshape(ward.labels_, rescaled_coins.shape)"
      ],
      "metadata": {
        "id": "_VeO_UXYa6DP"
      },
      "execution_count": null,
      "outputs": []
    },
    {
      "cell_type": "markdown",
      "source": [
        "### Feature agglomeration 特征聚集"
      ],
      "metadata": {
        "id": "IjvYa5Wpa7xD"
      }
    },
    {
      "cell_type": "markdown",
      "source": [
        "## Clustering: grouping observations together"
      ],
      "metadata": {
        "id": "gc0aEyZYcGTR"
      }
    },
    {
      "cell_type": "markdown",
      "source": [
        "我们知道，稀疏化可以用于去除维数灾难（即，样本远小于该特征数所需的样本数）。另一种方法是将相似的特征合并：**特征聚集 feature agglomeration**，这个方法可以用在特征方向上的聚类实现，换句话说，对转换后的数据进行聚类。\n",
        "\n",
        "[![](https://scikit-learn.org/stable/_images/sphx_glr_plot_digits_agglomeration_001.png)](https://scikit-learn.org/stable/auto_examples/cluster/plot_digits_agglomeration.html)"
      ],
      "metadata": {
        "id": "WPhZxcM6bCtW"
      }
    },
    {
      "cell_type": "code",
      "source": [
        "digits = datasets.load_digits()\n",
        "images = digits.images\n",
        "X = np.reshape(images, (len(images), -1))\n",
        "connectivity = grid_to_graph(*images[0].shape)\n",
        "\n",
        "agglo = cluster.FeatureAgglomeration(connectivity=connectivity,\n",
        "                                     n_clusters=32)\n",
        "agglo.fit(X)"
      ],
      "metadata": {
        "id": "2Na6T_vNbmIR"
      },
      "execution_count": null,
      "outputs": []
    },
    {
      "cell_type": "code",
      "source": [
        "X_reduced = agglo.transform(X)"
      ],
      "metadata": {
        "id": "zkKH4IgKbuqC"
      },
      "execution_count": null,
      "outputs": []
    },
    {
      "cell_type": "code",
      "source": [
        "X_approx = agglo.inverse_transform(X_reduced)\n",
        "images_approx = np.reshape(X_approx, images.shape)"
      ],
      "metadata": {
        "id": "Y7-9debVbvsW"
      },
      "execution_count": null,
      "outputs": []
    },
    {
      "cell_type": "markdown",
      "source": [
        "> `transform` 和 `inverse_transform` 方法\n",
        ">\n",
        "> 部分估计器暴露了`transform`方法，用于降低数据集的维数。"
      ],
      "metadata": {
        "id": "ZWpdQaChbxDk"
      }
    },
    {
      "cell_type": "markdown",
      "source": [
        "## Decompositions: from a signal to components and loadings 分解：从信号到组分和负载"
      ],
      "metadata": {
        "id": "Hl41trMkKJ4U"
      }
    },
    {
      "cell_type": "markdown",
      "source": [
        "> **Components and loadings 组分和负载**\n",
        ">\n",
        "> 若X为多变量的数据，我们尝试解决的问题是将其重写到不同的观测维度上：我们想要学习负载L和一系列的组分C，让$X=LC$。不同的标准可以用于选择组分。"
      ],
      "metadata": {
        "id": "YaTwtjTGcS1Z"
      }
    },
    {
      "cell_type": "markdown",
      "source": [
        "### Principal component analysis: PCA 主成分分析"
      ],
      "metadata": {
        "id": "KcOLIKtuc8QY"
      }
    },
    {
      "cell_type": "markdown",
      "source": [
        "[主成分分析（Principal component analysis,PCA）](https://scikit-learn.org/stable/modules/decomposition.html#pca)选择了连续的组分，可以最大化该变量上的方差。\n",
        "\n",
        "<p ><a href=\"https://scikit-learn.org/stable/auto_examples/decomposition/plot_pca_3d.html\"><img  src=\"https://scikit-learn.org/stable/_images/sphx_glr_plot_pca_3d_001.png\" style=\"width: 280.0px; height: 210.0px;\" /></a> <a href=\"https://scikit-learn.org/stable/auto_examples/decomposition/plot_pca_3d.html\"><img src=\"https://scikit-learn.org/stable/_images/sphx_glr_plot_pca_3d_002.png\" style=\"width: 280.0px; height: 210.0px;\" /></a></p>\n"
      ],
      "metadata": {
        "id": "7yinQthGc-5y"
      }
    },
    {
      "cell_type": "markdown",
      "source": [
        "上图中基于样本的点云在一个方向上的分布比较平坦：说明三个单变量特征中的一个几乎可以使用其他两个精确计算出来。主成分分析发现数据的方向不是平坦的？？"
      ],
      "metadata": {
        "id": "t3FK4FwVdonU"
      }
    },
    {
      "cell_type": "markdown",
      "source": [
        "当用于转换数据时，PCA可以通过在将原始数据投影到子空间来降低数据的维度。"
      ],
      "metadata": {
        "id": "B35mXsoqeMpv"
      }
    },
    {
      "cell_type": "code",
      "source": [
        "# Create a signal with only 2 useful dimensions\n",
        "x1 = np.random.normal(size=100)\n",
        "x2 = np.random.normal(size=100)\n",
        "x3 = x1 + x2\n",
        "X = np.c_[x1, x2, x3]\n",
        "\n",
        "from sklearn import decomposition\n",
        "pca = decomposition.PCA()\n",
        "pca.fit(X)\n",
        "\n",
        "print(pca.explained_variance_)  "
      ],
      "metadata": {
        "id": "E6alXfQweZv8"
      },
      "execution_count": null,
      "outputs": []
    },
    {
      "cell_type": "code",
      "source": [
        "# As we can see, only the 2 first components are useful\n",
        "pca.n_components = 2\n",
        "X_reduced = pca.fit_transform(X)\n",
        "X_reduced.shape"
      ],
      "metadata": {
        "id": "tBBxfPMpcSPI"
      },
      "execution_count": null,
      "outputs": []
    },
    {
      "cell_type": "markdown",
      "source": [
        "### Independent Component Analysis: ICA 独立成分分析"
      ],
      "metadata": {
        "id": "Tu0dPyh7eeB0"
      }
    },
    {
      "cell_type": "markdown",
      "source": [
        "[独立成分分析（Independent Component Analysis, ICA）](https://scikit-learn.org/stable/modules/decomposition.html#ica)选出成分，使得其负载的分布带有最大数量的独立信息。它能够恢复非高斯独立信号："
      ],
      "metadata": {
        "id": "_p19yQjWehlC"
      }
    },
    {
      "cell_type": "markdown",
      "source": [
        "[![](https://scikit-learn.org/stable/_images/sphx_glr_plot_ica_blind_source_separation_001.png)](https://scikit-learn.org/stable/auto_examples/decomposition/plot_ica_blind_source_separation.html)\n",
        "\n"
      ],
      "metadata": {
        "id": "im8-ypAselvX"
      }
    },
    {
      "cell_type": "code",
      "source": [
        "# Generate sample data\n",
        "import numpy as np\n",
        "from scipy import signal\n",
        "time = np.linspace(0, 10, 2000)\n",
        "s1 = np.sin(2 * time)  # Signal 1 : sinusoidal signal\n",
        "s2 = np.sign(np.sin(3 * time))  # Signal 2 : square signal\n",
        "s3 = signal.sawtooth(2 * np.pi * time)  # Signal 3: saw tooth signal\n",
        "S = np.c_[s1, s2, s3]\n",
        "S += 0.2 * np.random.normal(size=S.shape)  # Add noise\n",
        "S /= S.std(axis=0)  # Standardize data\n",
        "# Mix data\n",
        "A = np.array([[1, 1, 1], [0.5, 2, 1], [1.5, 1, 2]])  # Mixing matrix\n",
        "X = np.dot(S, A.T)  # Generate observations\n",
        "\n",
        "# Compute ICA\n",
        "ica = decomposition.FastICA()\n",
        "S_ = ica.fit_transform(X)  # Get the estimated sources\n",
        "A_ = ica.mixing_.T\n",
        "np.allclose(X,  np.dot(S_, A_) + ica.mean_)"
      ],
      "metadata": {
        "id": "1kKFMSnBekr8"
      },
      "execution_count": null,
      "outputs": []
    },
    {
      "cell_type": "markdown",
      "source": [
        "# Putting it all together 串起来 [链接](https://scikit-learn.org/stable/tutorial/statistical_inference/putting_together.html)"
      ],
      "metadata": {
        "id": "l83pnN3IJkJu"
      }
    },
    {
      "cell_type": "markdown",
      "source": [
        "## Pipelining"
      ],
      "metadata": {
        "id": "QaTO7bCGKOIz"
      }
    },
    {
      "cell_type": "markdown",
      "source": [
        "我们看到，有些估计器可以进行数据变换，一些可以用来预测变量，我们还可以创建估计器的组合，例如：\n",
        "\n",
        "\n",
        "```python\n",
        "# 实际代码见链接 https://scikit-learn.org/stable/auto_examples/compose/plot_digits_pipe.html\n",
        "from sklearn.decomposition import PCA\n",
        "from sklearn.linear_model import LogisticRegression\n",
        "from sklearn.pipeline import Pipeline\n",
        "from sklearn.model_selection import GridSearchCV\n",
        "import matplotlib.pyplot as plt\n",
        "\n",
        "\n",
        "# Define a pipeline to search for the best combination of PCA truncation\n",
        "# and classifier regularization.\n",
        "pca = PCA()\n",
        "# set the tolerance to a large value to make the example faster\n",
        "logistic = LogisticRegression(max_iter=10000, tol=0.1)\n",
        "pipe = Pipeline(steps=[(\"pca\", pca), (\"logistic\", logistic)])\n",
        "\n",
        "X_digits, y_digits = datasets.load_digits(return_X_y=True)\n",
        "\n",
        "# Parameters of pipelines can be set using ‘__’ separated parameter names:\n",
        "param_grid = {\n",
        "    \"pca__n_components\": [5, 15, 30, 45, 64],\n",
        "    \"logistic__C\": np.logspace(-4, 4, 4),\n",
        "}\n",
        "search = GridSearchCV(pipe, param_grid, n_jobs=-1)\n",
        "search.fit(X_digits, y_digits)\n",
        "print(\"Best parameter (CV score=%0.3f):\" % search.best_score_)\n",
        "print(search.best_params_)\n",
        "\n",
        "# Plot the PCA spectrum\n",
        "pca.fit(X_digits)\n",
        "\n",
        "fig, (ax0, ax1) = plt.subplots(nrows=2, sharex=True, figsize=(6, 6))\n",
        "ax0.plot(\n",
        "    np.arange(1, pca.n_components_ + 1), pca.explained_variance_ratio_, \"+\", linewidth=2\n",
        ")\n",
        "ax0.set_ylabel(\"PCA explained variance ratio\")\n",
        "\n",
        "ax0.axvline(\n",
        "    search.best_estimator_.named_steps[\"pca\"].n_components,\n",
        "    linestyle=\":\",\n",
        "    label=\"n_components chosen\",\n",
        ")\n",
        "ax0.legend(prop=dict(size=12))\n",
        "```"
      ],
      "metadata": {
        "id": "CWO-9mYJPSgD"
      }
    },
    {
      "cell_type": "markdown",
      "source": [
        "Guide中给出的图片：\n",
        "[![结果](https://scikit-learn.org/stable/_images/sphx_glr_plot_digits_pipe_001.png)](https://scikit-learn.org/stable/auto_examples/compose/plot_digits_pipe.html)"
      ],
      "metadata": {
        "id": "G5EyGFphQFPd"
      }
    },
    {
      "cell_type": "markdown",
      "source": [
        "## Face recognition with eigenfaces"
      ],
      "metadata": {
        "id": "we_2_yYfKOaU"
      }
    },
    {
      "cell_type": "markdown",
      "source": [
        "这个示例中用的数据集是从[“Labeled faces in the world”](http://vis-www.cs.umass.edu/lfw/)中摘录并经预处理得到的：\n",
        "\n",
        "http://vis-www.cs.umass.edu/lfw/lfw-funneled.tgz (233MB)\n",
        "\n",
        "\n",
        "```python\n",
        "\"\"\"\n",
        "===================================================\n",
        "Faces recognition example using eigenfaces and SVMs\n",
        "===================================================\n",
        "\n",
        "The dataset used in this example is a preprocessed excerpt of the\n",
        "\"Labeled Faces in the Wild\", aka LFW_:\n",
        "\n",
        "  http://vis-www.cs.umass.edu/lfw/lfw-funneled.tgz (233MB)\n",
        "\n",
        ".. _LFW: http://vis-www.cs.umass.edu/lfw/\n",
        "\n",
        "Expected results for the top 5 most represented people in the dataset:\n",
        "\n",
        "================== ============ ======= ========== =======\n",
        "                   precision    recall  f1-score   support\n",
        "================== ============ ======= ========== =======\n",
        "     Ariel Sharon       0.67      0.92      0.77        13\n",
        "     Colin Powell       0.75      0.78      0.76        60\n",
        "  Donald Rumsfeld       0.78      0.67      0.72        27\n",
        "    George W Bush       0.86      0.86      0.86       146\n",
        "Gerhard Schroeder       0.76      0.76      0.76        25\n",
        "      Hugo Chavez       0.67      0.67      0.67        15\n",
        "       Tony Blair       0.81      0.69      0.75        36\n",
        "\n",
        "      avg / total       0.80      0.80      0.80       322\n",
        "================== ============ ======= ========== =======\n",
        "\n",
        "\"\"\"\n",
        "\n",
        "from time import time\n",
        "import logging\n",
        "import matplotlib.pyplot as plt\n",
        "\n",
        "from sklearn.model_selection import train_test_split\n",
        "from sklearn.model_selection import GridSearchCV\n",
        "from sklearn.datasets import fetch_lfw_people\n",
        "from sklearn.metrics import classification_report\n",
        "from sklearn.metrics import confusion_matrix\n",
        "from sklearn.decomposition import PCA\n",
        "from sklearn.svm import SVC\n",
        "\n",
        "\n",
        "# Display progress logs on stdout\n",
        "logging.basicConfig(level=logging.INFO, format=\"%(asctime)s %(message)s\")\n",
        "\n",
        "\n",
        "# #############################################################################\n",
        "# Download the data, if not already on disk and load it as numpy arrays\n",
        "\n",
        "lfw_people = fetch_lfw_people(min_faces_per_person=70, resize=0.4)\n",
        "\n",
        "# introspect the images arrays to find the shapes (for plotting)\n",
        "n_samples, h, w = lfw_people.images.shape\n",
        "\n",
        "# for machine learning we use the 2 data directly (as relative pixel\n",
        "# positions info is ignored by this model)\n",
        "X = lfw_people.data\n",
        "n_features = X.shape[1]\n",
        "\n",
        "# the label to predict is the id of the person\n",
        "y = lfw_people.target\n",
        "target_names = lfw_people.target_names\n",
        "n_classes = target_names.shape[0]\n",
        "\n",
        "print(\"Total dataset size:\")\n",
        "print(\"n_samples: %d\" % n_samples)\n",
        "print(\"n_features: %d\" % n_features)\n",
        "print(\"n_classes: %d\" % n_classes)\n",
        "\n",
        "\n",
        "# #############################################################################\n",
        "# Split into a training set and a test set using a stratified k fold\n",
        "\n",
        "# split into a training and testing set\n",
        "X_train, X_test, y_train, y_test = train_test_split(\n",
        "    X, y, test_size=0.25, random_state=42\n",
        ")\n",
        "\n",
        "\n",
        "# #############################################################################\n",
        "# Compute a PCA (eigenfaces) on the face dataset (treated as unlabeled\n",
        "# dataset): unsupervised feature extraction / dimensionality reduction\n",
        "n_components = 150\n",
        "\n",
        "print(\n",
        "    \"Extracting the top %d eigenfaces from %d faces\" % (n_components, X_train.shape[0])\n",
        ")\n",
        "t0 = time()\n",
        "pca = PCA(n_components=n_components, svd_solver=\"randomized\", whiten=True).fit(X_train)\n",
        "print(\"done in %0.3fs\" % (time() - t0))\n",
        "\n",
        "eigenfaces = pca.components_.reshape((n_components, h, w))\n",
        "\n",
        "print(\"Projecting the input data on the eigenfaces orthonormal basis\")\n",
        "t0 = time()\n",
        "X_train_pca = pca.transform(X_train)\n",
        "X_test_pca = pca.transform(X_test)\n",
        "print(\"done in %0.3fs\" % (time() - t0))\n",
        "\n",
        "\n",
        "# #############################################################################\n",
        "# Train a SVM classification model\n",
        "\n",
        "print(\"Fitting the classifier to the training set\")\n",
        "t0 = time()\n",
        "param_grid = {\n",
        "    \"C\": [1e3, 5e3, 1e4, 5e4, 1e5],\n",
        "    \"gamma\": [0.0001, 0.0005, 0.001, 0.005, 0.01, 0.1],\n",
        "}\n",
        "clf = GridSearchCV(SVC(kernel=\"rbf\", class_weight=\"balanced\"), param_grid)\n",
        "clf = clf.fit(X_train_pca, y_train)\n",
        "print(\"done in %0.3fs\" % (time() - t0))\n",
        "print(\"Best estimator found by grid search:\")\n",
        "print(clf.best_estimator_)\n",
        "\n",
        "\n",
        "# #############################################################################\n",
        "# Quantitative evaluation of the model quality on the test set\n",
        "\n",
        "print(\"Predicting people's names on the test set\")\n",
        "t0 = time()\n",
        "y_pred = clf.predict(X_test_pca)\n",
        "print(\"done in %0.3fs\" % (time() - t0))\n",
        "\n",
        "print(classification_report(y_test, y_pred, target_names=target_names))\n",
        "print(confusion_matrix(y_test, y_pred, labels=range(n_classes)))\n",
        "\n",
        "\n",
        "# #############################################################################\n",
        "# Qualitative evaluation of the predictions using matplotlib\n",
        "\n",
        "\n",
        "def plot_gallery(images, titles, h, w, n_row=3, n_col=4):\n",
        "    \"\"\"Helper function to plot a gallery of portraits\"\"\"\n",
        "    plt.figure(figsize=(1.8 * n_col, 2.4 * n_row))\n",
        "    plt.subplots_adjust(bottom=0, left=0.01, right=0.99, top=0.90, hspace=0.35)\n",
        "    for i in range(n_row * n_col):\n",
        "        plt.subplot(n_row, n_col, i + 1)\n",
        "        plt.imshow(images[i].reshape((h, w)), cmap=plt.cm.gray)\n",
        "        plt.title(titles[i], size=12)\n",
        "        plt.xticks(())\n",
        "        plt.yticks(())\n",
        "\n",
        "\n",
        "# plot the result of the prediction on a portion of the test set\n",
        "\n",
        "\n",
        "def title(y_pred, y_test, target_names, i):\n",
        "    pred_name = target_names[y_pred[i]].rsplit(\" \", 1)[-1]\n",
        "    true_name = target_names[y_test[i]].rsplit(\" \", 1)[-1]\n",
        "    return \"predicted: %s\\ntrue:      %s\" % (pred_name, true_name)\n",
        "\n",
        "\n",
        "prediction_titles = [\n",
        "    title(y_pred, y_test, target_names, i) for i in range(y_pred.shape[0])\n",
        "]\n",
        "\n",
        "plot_gallery(X_test, prediction_titles, h, w)\n",
        "\n",
        "# plot the gallery of the most significative eigenfaces\n",
        "\n",
        "eigenface_titles = [\"eigenface %d\" % i for i in range(eigenfaces.shape[0])]\n",
        "plot_gallery(eigenfaces, eigenface_titles, h, w)\n",
        "\n",
        "plt.show()\n",
        "```\n",
        "\n"
      ],
      "metadata": {
        "id": "AD3tGYUWQlx9"
      }
    },
    {
      "cell_type": "markdown",
      "source": [
        "Guide页面中给出的结果：\n",
        "\n",
        "![](https://scikit-learn.org/stable/_images/plot_face_recognition_1.png)\n",
        "\n",
        "**Prediction 预测**\n",
        "\n",
        "![](https://scikit-learn.org/stable/_images/plot_face_recognition_2.png)\n",
        "\n",
        "**Eigenfaces 特征脸**"
      ],
      "metadata": {
        "id": "1wkeVL5dRJYF"
      }
    },
    {
      "cell_type": "markdown",
      "source": [
        "数据集中5个最具代表性的人预期结果：\n",
        "\n",
        "\n",
        "<div class=\"highlight-default notranslate\"><div class=\"highlight\"><pre><span></span>                   <span class=\"n\">precision</span>    <span class=\"n\">recall</span>  <span class=\"n\">f1</span><span class=\"o\">-</span><span class=\"n\">score</span>   <span class=\"n\">support</span>\n",
        "<span class=\"n\">Gerhard_Schroeder</span>       <span class=\"mf\">0.91</span>      <span class=\"mf\">0.75</span>      <span class=\"mf\">0.82</span>        <span class=\"mi\">28</span>\n",
        "  <span class=\"n\">Donald_Rumsfeld</span>       <span class=\"mf\">0.84</span>      <span class=\"mf\">0.82</span>      <span class=\"mf\">0.83</span>        <span class=\"mi\">33</span>\n",
        "       <span class=\"n\">Tony_Blair</span>       <span class=\"mf\">0.65</span>      <span class=\"mf\">0.82</span>      <span class=\"mf\">0.73</span>        <span class=\"mi\">34</span>\n",
        "     <span class=\"n\">Colin_Powell</span>       <span class=\"mf\">0.78</span>      <span class=\"mf\">0.88</span>      <span class=\"mf\">0.83</span>        <span class=\"mi\">58</span>\n",
        "    <span class=\"n\">George_W_Bush</span>       <span class=\"mf\">0.93</span>      <span class=\"mf\">0.86</span>      <span class=\"mf\">0.90</span>       <span class=\"mi\">129</span>"
      ],
      "metadata": {
        "id": "ZUTicbMHRbW9"
      }
    },
    {
      "cell_type": "markdown",
      "source": [
        "## Open problem: Stock Market Structure"
      ],
      "metadata": {
        "id": "bNogfZqbKOqm"
      }
    },
    {
      "cell_type": "markdown",
      "source": [
        "我们可以通过给定的时间框架预测谷歌的股票价格的变化吗？\n",
        "\n",
        "[Learning a graph structure](https://scikit-learn.org/stable/auto_examples/applications/plot_stock_market.html#stock-market)"
      ],
      "metadata": {
        "id": "JbmKtaMpSKK-"
      }
    }
  ]
}