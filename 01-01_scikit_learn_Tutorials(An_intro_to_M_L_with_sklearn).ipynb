{
  "cells": [
    {
      "cell_type": "markdown",
      "metadata": {
        "id": "view-in-github",
        "colab_type": "text"
      },
      "source": [
        "<a href=\"https://colab.research.google.com/github/lewis738/scikit_learning/blob/main/01-01_scikit_learn_Tutorials(An_intro_to_M_L_with_sklearn).ipynb\" target=\"_parent\"><img src=\"https://colab.research.google.com/assets/colab-badge.svg\" alt=\"Open In Colab\"/></a>"
      ]
    },
    {
      "cell_type": "markdown",
      "metadata": {
        "id": "kE5jXYC07tKH"
      },
      "source": [
        "【本篇内容还需修正】这部分主要介绍一些`scikit-learn`中用到的机器学习术语，并且给出一些简单的案例。"
      ]
    },
    {
      "cell_type": "markdown",
      "metadata": {
        "id": "lfbpI6ED5TYF"
      },
      "source": [
        "## Machine learning: the problem setting 机器学习的问题设置"
      ]
    },
    {
      "cell_type": "markdown",
      "metadata": {
        "id": "yRXHfvKh97uq"
      },
      "source": [
        "一般来说，一个学习问题考量一个有n个样例的数据集，然后尝试预测未知数据的特性。如果每个样例不只是一个数字，那就是一条多维记录（也就是多变量的数据），也说他有多个属性/**特征**。\n",
        "\n",
        "学习问题可以分为以下几类：\n",
        "\n",
        "\n",
        "*  [监督学习`supervised learning`](https://en.wikipedia.org/wiki/Supervised_learning)\n",
        "\n",
        "  数据带有额外的属性，这个属性是我们预测的目标（[点击](https://scikit-learn.org/stable/supervised_learning.html#supervised-learning)转到Scikit-Learn的监督学习页面），这个问题可以是：\n",
        "\n",
        "  *  [分类`Classification`问题](https://en.wikipedia.org/wiki/Classification_in_machine_learning)：\n",
        "  \n",
        "    样例数据属于多个类别，我们希望通过学习【已经标记好类别的样例】来【预测未标记的数据】属于什么类别。\n",
        "    \n",
        "    一个例子：手写字符的识别，目标是将每个输入向量与有限数量的离散类别中的一个类别对应上。\n",
        "\n",
        "    对分类问题的另一种理解：认为分类是离散的监督学习（区别于连续），有一组离散的、有限的类别，对于给定的n个样例，尝试去给他们标注出正确的类别。\n",
        "  *  [回归`Regression`问题](https://en.wikipedia.org/wiki/Regression_analysis):\n",
        "    \n",
        "    目标变量是一个或多个连续变量\n",
        "\n",
        "    一个例子：根据鲑鱼的年龄、体重，预测其长度。\n",
        "*   [非监督学习`Unsuoervised Learning`](https://en.wikipedia.org/wiki/Unsupervised_learning):\n",
        "\n",
        "  训练数据包含一组输入向量x，但没有对应的目标值，非监督学习的目标是：\n",
        "    *  [聚类`clustering`](https://en.wikipedia.org/wiki/Cluster_analysis)：尝试发现数据中相似的数据，并分组；\n",
        "    *  [概率密度估计`density estimation`](https://en.wikipedia.org/wiki/Density_estimation)：确定数据在输入空间的分布；\n",
        "    *  [降维以可视化`visualization`]():从高维空间将数据投射到两个或三个维度，以便可视化。\n"
      ]
    },
    {
      "cell_type": "markdown",
      "metadata": {
        "id": "cD3sE6SwFpIe"
      },
      "source": [
        "  > **训练集和测试集（Training sets and testing sets）**\n",
        "  > \n",
        "  > 机器学习是从一个数据集中学习其特性，然后在另一个数据集中对其学习成果进行测试的东西，常规的方法是将一个数据集划分为两个，其中一个用来学习，叫训练集（Training set）；另一个用来检验学习成果，叫测试集（Testing set）。"
      ]
    },
    {
      "cell_type": "markdown",
      "metadata": {
        "id": "QYPe8RZL9BAr"
      },
      "source": [
        "## Loading an example dataset 导入样例数据集"
      ]
    },
    {
      "cell_type": "markdown",
      "metadata": {
        "id": "FB74Wozh9BVC"
      },
      "source": [
        "`sciit-learn`中提供了些许标准的数据集，例如：用于分类的[鸢尾花`iris`数据集](https://en.wikipedia.org/wiki/Iris_flower_data_set)和[手写数字`digits`数据集](https://archive.ics.uci.edu/ml/datasets/Pen-Based+Recognition+of+Handwritten+Digits)，用于回归的[糖尿病`Diabetes`数据集](https://www4.stat.ncsu.edu/~boos/var.select/diabetes.html)"
      ]
    },
    {
      "cell_type": "markdown",
      "metadata": {
        "id": "gmYnjMIrIWfd"
      },
      "source": [
        "接下来，启动Python解释器，导入鸢尾花和手写数字数据集；$表示shell中命令；>>>表示python解释器中代码；\n",
        "\n",
        "```\n",
        "$ python\n",
        "```"
      ]
    },
    {
      "cell_type": "code",
      "execution_count": 1,
      "metadata": {
        "id": "Rhi_fxDAOSJY"
      },
      "outputs": [],
      "source": [
        "from sklearn import datasets\n",
        "iris = datasets.load_iris()\n",
        "digits = datasets.load_digits()"
      ]
    },
    {
      "cell_type": "markdown",
      "metadata": {
        "id": "5iQOTmpeI2w_"
      },
      "source": [
        "数据集是字典形式的对象，其中含有数据集的所有的数据和一些元数据（数据描述），其中数据存储在`.data`成员中，是一个`[n_samples，n_features]`的二维数组，在监督学习中，响应变量存在`.target`成员中，不同数据集之前的区别可在这个[专门的数据集页面](https://scikit-learn.org/stable/datasets.html#datasets)中找到。\n",
        "\n",
        "例如：手写字符数据集的`digits.data`可以访问用于分类的样例数据："
      ]
    },
    {
      "cell_type": "code",
      "execution_count": 2,
      "metadata": {
        "colab": {
          "base_uri": "https://localhost:8080/"
        },
        "id": "OwqlK7wyONjW",
        "outputId": "a6dc26f6-0007-456f-93c4-6b5494d27c99"
      },
      "outputs": [
        {
          "output_type": "stream",
          "name": "stdout",
          "text": [
            "[[ 0.  0.  5. ...  0.  0.  0.]\n",
            " [ 0.  0.  0. ... 10.  0.  0.]\n",
            " [ 0.  0.  0. ... 16.  9.  0.]\n",
            " ...\n",
            " [ 0.  0.  1. ...  6.  0.  0.]\n",
            " [ 0.  0.  2. ... 12.  0.  0.]\n",
            " [ 0.  0. 10. ... 12.  1.  0.]]\n"
          ]
        }
      ],
      "source": [
        "print(digits.data)"
      ]
    },
    {
      "cell_type": "markdown",
      "metadata": {
        "id": "NxYLcOWpOV_s"
      },
      "source": [
        "`digits.target`则给出了数据集的原始真相——尝试学习的图像的对应数字"
      ]
    },
    {
      "cell_type": "code",
      "execution_count": 3,
      "metadata": {
        "colab": {
          "base_uri": "https://localhost:8080/"
        },
        "id": "2JAPPTdIOshQ",
        "outputId": "216eba6b-a137-4053-ed3f-96fa7cb24943"
      },
      "outputs": [
        {
          "output_type": "execute_result",
          "data": {
            "text/plain": [
              "array([0, 1, 2, ..., 8, 9, 8])"
            ]
          },
          "metadata": {},
          "execution_count": 3
        }
      ],
      "source": [
        "digits.target"
      ]
    },
    {
      "cell_type": "markdown",
      "metadata": {
        "id": "qQQsXxP1Oxph"
      },
      "source": [
        " > **数据数组的尺寸**\n",
        " > \n",
        " >  数据总是二维的数组，尺寸为`(n_samples, n_features)`，原始数据的尺寸可能不同。在`digits`数据集中，原始数据为(8,8)的图像，可以使用如下方法访问："
      ]
    },
    {
      "cell_type": "code",
      "execution_count": 4,
      "metadata": {
        "colab": {
          "base_uri": "https://localhost:8080/"
        },
        "id": "Dj22tHWMPUnt",
        "outputId": "f640f893-033f-4092-f63c-fa4a43d36017"
      },
      "outputs": [
        {
          "output_type": "execute_result",
          "data": {
            "text/plain": [
              "array([[ 0.,  0.,  5., 13.,  9.,  1.,  0.,  0.],\n",
              "       [ 0.,  0., 13., 15., 10., 15.,  5.,  0.],\n",
              "       [ 0.,  3., 15.,  2.,  0., 11.,  8.,  0.],\n",
              "       [ 0.,  4., 12.,  0.,  0.,  8.,  8.,  0.],\n",
              "       [ 0.,  5.,  8.,  0.,  0.,  9.,  8.,  0.],\n",
              "       [ 0.,  4., 11.,  0.,  1., 12.,  7.,  0.],\n",
              "       [ 0.,  2., 14.,  5., 10., 12.,  0.,  0.],\n",
              "       [ 0.,  0.,  6., 13., 10.,  0.,  0.,  0.]])"
            ]
          },
          "metadata": {},
          "execution_count": 4
        }
      ],
      "source": [
        "digits.images[0]"
      ]
    },
    {
      "cell_type": "markdown",
      "metadata": {
        "id": "FRmh_sXxPgSx"
      },
      "source": [
        " > [在此数据集上进行学习和预测的简单示例](https://scikit-learn.org/stable/auto_examples/classification/plot_digits_classification.html#sphx-glr-auto-examples-classification-plot-digits-classification-py)说明了，如何从原始问题开始，使用scikit-learn重构数据。"
      ]
    },
    {
      "cell_type": "markdown",
      "metadata": {
        "id": "RBrfzBHgQPCR"
      },
      "source": [
        " > **导入外部数据**\n",
        " > \n",
        " > 请参考[链接](https://scikit-learn.org/stable/datasets/loading_other_datasets.html#external-datasets)。"
      ]
    },
    {
      "cell_type": "markdown",
      "metadata": {
        "id": "nLs3iH9D9HPt"
      },
      "source": [
        "## Learning and predicting 学习和预测"
      ]
    },
    {
      "cell_type": "markdown",
      "metadata": {
        "id": "TaV8b7EJ9JaF"
      },
      "source": [
        "在`digits`手写数字数据集中，任务是：给定一张图像，预测其代表的数字。给定10个类别（0-9）的样例数据集，训练一个估计器，用于预测尚未见过的图像对应的类别（数字）。\n",
        "\n",
        "scikit-learn中，用于分类的估计器`eatimator`是实现了`fit(X,y)`和`predict(T)`方法的Python对象。\n",
        "\n",
        "一个估计器`eatimator`的例子：`sklearn.svm.SVC`类，它实现了[支持向量机分类](https://en.wikipedia.org/wiki/Support_vector_machine)，估计器`estimator`的构造函数`constructor`将模型的参数作为参数。\n",
        "\n",
        "现在起，我们将估计器`estimator`是为黑箱"
      ]
    },
    {
      "cell_type": "code",
      "execution_count": 5,
      "metadata": {
        "id": "7mLr5iBdTqbG"
      },
      "outputs": [],
      "source": [
        "from sklearn import svm\n",
        "clf = svm.SVC(gamma=0.001, C=100.)"
      ]
    },
    {
      "cell_type": "markdown",
      "metadata": {
        "id": "ZuYE8gBvTs4c"
      },
      "source": [
        " > **选定模型参数**\n",
        " > \n",
        " > 本例中，手动设置`gamma`的值，为了找到一个较好的值，可以用[网格搜索`grid search`](https://scikit-learn.org/stable/modules/grid_search.html#grid-search)、[交叉验证`criss validation`](https://scikit-learn.org/stable/modules/cross_validation.html#cross-validation)等工具。"
      ]
    },
    {
      "cell_type": "markdown",
      "metadata": {
        "id": "RaNdZdinUGUQ"
      },
      "source": [
        "`clf`估计器实例首先需要fit模型——从模型中学习：通过将训练集数据传给`fit`方法实现。对训练集我们用了数据集中的所有图像，除了最后一张，这张图象留着用于预测。因此用Python语法`[:-1]`从`digits.data`中选出训练数据集，"
      ]
    },
    {
      "cell_type": "code",
      "execution_count": 6,
      "metadata": {
        "colab": {
          "base_uri": "https://localhost:8080/"
        },
        "id": "kAG2IdAJVept",
        "outputId": "c84169ee-9ab7-4680-debb-dca29666a4f8"
      },
      "outputs": [
        {
          "output_type": "execute_result",
          "data": {
            "text/plain": [
              "SVC(C=100.0, gamma=0.001)"
            ]
          },
          "metadata": {},
          "execution_count": 6
        }
      ],
      "source": [
        "clf.fit(digits.data[:-1], digits.target[:-1])\n"
      ]
    },
    {
      "cell_type": "markdown",
      "source": [
        "现在可以开始预测了。在本例中用`digits.data`的最后一张图像用于预测，"
      ],
      "metadata": {
        "id": "g_7BnE_TWUlP"
      }
    },
    {
      "cell_type": "code",
      "source": [
        "clf.predict(digits.data[-1:])"
      ],
      "metadata": {
        "colab": {
          "base_uri": "https://localhost:8080/"
        },
        "id": "uNXa3GrSWXmp",
        "outputId": "9e42854d-71e0-4c69-a2bc-dfca9cc3962d"
      },
      "execution_count": 7,
      "outputs": [
        {
          "output_type": "execute_result",
          "data": {
            "text/plain": [
              "array([8])"
            ]
          },
          "metadata": {},
          "execution_count": 7
        }
      ]
    },
    {
      "cell_type": "markdown",
      "source": [
        "可以将最后一张图打印出来，查看预测是否正确\n",
        "\n",
        "<img src=\"https://scikit-learn.org/stable/_images/sphx_glr_plot_digits_last_image_001.png\" alt=\"1\" style=\"zoom:80%;\" />"
      ],
      "metadata": {
        "id": "wRCJEAyDWZoE"
      }
    },
    {
      "cell_type": "markdown",
      "source": [
        "从图中可以看到,这是一个具有挑战性的任务,图像分辨率非常低,你觉得他的预测是正确的吗?\n",
        "\n",
        "此分类问题的完整示例,您可以自行运行和研究：[手写数字识别](https://scikit-learn.org/stable/auto_examples/classification/plot_digits_classification.html#sphx-glr-auto-examples-classification-plot-digits-classification-py)。\n"
      ],
      "metadata": {
        "id": "epPPo7vCWyh4"
      }
    },
    {
      "cell_type": "markdown",
      "metadata": {
        "id": "tuqc7xYP9Jmj"
      },
      "source": [
        "## Conventions\n",
        "\n",
        "scikit-learn估计器遵循了一些rules来让其行为更可预测,具体内容在[Glossary of Common Terms and API Elements 公共术语和API元素词汇表](https://scikit-learn.org/stable/glossary.html#glossary)页面有详细的描述"
      ]
    },
    {
      "cell_type": "markdown",
      "metadata": {
        "id": "CvTCKk8N9VRp"
      },
      "source": [
        "### Type casting 类型转换"
      ]
    },
    {
      "cell_type": "markdown",
      "metadata": {
        "id": "LzNYWMHO9Xwq"
      },
      "source": [
        "除非另外指定,否则输入默认会被转换为`float\n",
        "64`类型"
      ]
    },
    {
      "cell_type": "code",
      "source": [
        "import numpy as np\n",
        "from sklearn import random_projection\n",
        "\n",
        "rng = np.random.RandomState(0)\n",
        "X = rng.rand(10, 2000)\n",
        "print(X.dtype)\n",
        "Y = np.array(X) # 默认为float64\n",
        "print(Y.dtype)\n",
        "X = np.array(X, dtype='float32')\n",
        "print(X.dtype)\n"
      ],
      "metadata": {
        "colab": {
          "base_uri": "https://localhost:8080/"
        },
        "id": "ngrxHy15X2vC",
        "outputId": "95bc5ce5-b437-4a65-ed78-5b37f78ec695"
      },
      "execution_count": 8,
      "outputs": [
        {
          "output_type": "stream",
          "name": "stdout",
          "text": [
            "float64\n",
            "float64\n",
            "float32\n"
          ]
        }
      ]
    },
    {
      "cell_type": "code",
      "source": [
        "transformer = random_projection.GaussianRandomProjection()\n",
        "X_new = transformer.fit_transform(X)\n",
        "X_new.dtype"
      ],
      "metadata": {
        "colab": {
          "base_uri": "https://localhost:8080/"
        },
        "id": "EotEdMgQX5AR",
        "outputId": "856b06bd-effc-41b1-dfcd-461d074beb6a"
      },
      "execution_count": 9,
      "outputs": [
        {
          "output_type": "execute_result",
          "data": {
            "text/plain": [
              "dtype('float64')"
            ]
          },
          "metadata": {},
          "execution_count": 9
        }
      ]
    },
    {
      "cell_type": "markdown",
      "source": [
        "本例中，X为`float32`类型，被`fit_transform()`转化为了`float64`类型。\n",
        "*  **回归**的目标值会转为`float64`；\n",
        "*  **分类**的目标值类型不变："
      ],
      "metadata": {
        "id": "FmXzsxr7X7gj"
      }
    },
    {
      "cell_type": "code",
      "source": [
        "from sklearn import datasets\n",
        "from sklearn.svm import SVC\n",
        "iris = datasets.load_iris()\n",
        "clf = SVC()\n",
        "clf.fit(iris.data, iris.target)"
      ],
      "metadata": {
        "id": "idtaU0PlX8Ak",
        "colab": {
          "base_uri": "https://localhost:8080/"
        },
        "outputId": "373743a7-5a8b-4421-8e3b-bace6130e4d6"
      },
      "execution_count": 10,
      "outputs": [
        {
          "output_type": "execute_result",
          "data": {
            "text/plain": [
              "SVC()"
            ]
          },
          "metadata": {},
          "execution_count": 10
        }
      ]
    },
    {
      "cell_type": "code",
      "source": [
        "list(clf.predict(iris.data[:3]))"
      ],
      "metadata": {
        "id": "F5Pg6lFyX9TB",
        "colab": {
          "base_uri": "https://localhost:8080/"
        },
        "outputId": "f675d6dc-9a01-477d-e195-a1c08cb5445a"
      },
      "execution_count": 11,
      "outputs": [
        {
          "output_type": "execute_result",
          "data": {
            "text/plain": [
              "[0, 0, 0]"
            ]
          },
          "metadata": {},
          "execution_count": 11
        }
      ]
    },
    {
      "cell_type": "code",
      "source": [
        "clf.fit(iris.data, iris.target_names[iris.target])"
      ],
      "metadata": {
        "id": "Iz762MpQX-WP",
        "colab": {
          "base_uri": "https://localhost:8080/"
        },
        "outputId": "d5794edf-7c46-451a-a95c-2d40d27101ca"
      },
      "execution_count": 12,
      "outputs": [
        {
          "output_type": "execute_result",
          "data": {
            "text/plain": [
              "SVC()"
            ]
          },
          "metadata": {},
          "execution_count": 12
        }
      ]
    },
    {
      "cell_type": "code",
      "source": [
        "list(clf.predict(iris.data[:3]))"
      ],
      "metadata": {
        "id": "qpbYcie-X-kj",
        "colab": {
          "base_uri": "https://localhost:8080/"
        },
        "outputId": "e874042c-b4ac-4bbd-da0e-78a67376f6cf"
      },
      "execution_count": 13,
      "outputs": [
        {
          "output_type": "execute_result",
          "data": {
            "text/plain": [
              "['setosa', 'setosa', 'setosa']"
            ]
          },
          "metadata": {},
          "execution_count": 13
        }
      ]
    },
    {
      "cell_type": "markdown",
      "source": [
        "这里可以看到，第一个`predict`返回的整数类型数组，因为`iris.target`是整型；第二个`predict`返回字符串，因为`iris.target_names`是字符串，fit中使用的是它。"
      ],
      "metadata": {
        "id": "hyZIxIxIYAST"
      }
    },
    {
      "cell_type": "markdown",
      "metadata": {
        "id": "lhxX8Kfz9YC7"
      },
      "source": [
        "### Refitting and updating parameters 重新拟合和参数更新"
      ]
    },
    {
      "cell_type": "markdown",
      "metadata": {
        "id": "Ko3JpNrC9ai0"
      },
      "source": [
        "使用`set_params()`方法构造了估计器的超参数`hyper-parameters`后，还可以对超参数进行更新，后续调用`fit()`函数，会覆盖掉之前`fit()`学习得到的结果！"
      ]
    },
    {
      "cell_type": "code",
      "source": [
        "import numpy as np\n",
        "from sklearn.datasets import load_iris\n",
        "from sklearn.svm import SVC\n",
        "X, y = load_iris(return_X_y=True)\n",
        "\n",
        "clf = SVC()\n",
        "clf.set_params(kernel='linear').fit(X, y)"
      ],
      "metadata": {
        "id": "-UPaJGLuYBjj",
        "colab": {
          "base_uri": "https://localhost:8080/"
        },
        "outputId": "3efd8e6a-1814-4f3f-c7e6-5b723e6773a6"
      },
      "execution_count": 14,
      "outputs": [
        {
          "output_type": "execute_result",
          "data": {
            "text/plain": [
              "SVC(kernel='linear')"
            ]
          },
          "metadata": {},
          "execution_count": 14
        }
      ]
    },
    {
      "cell_type": "code",
      "source": [
        "clf.predict(X[:5])"
      ],
      "metadata": {
        "id": "ovqXf-izYC15",
        "colab": {
          "base_uri": "https://localhost:8080/"
        },
        "outputId": "01387f1f-b4be-4d39-aefb-3b73b90c665d"
      },
      "execution_count": 15,
      "outputs": [
        {
          "output_type": "execute_result",
          "data": {
            "text/plain": [
              "array([0, 0, 0, 0, 0])"
            ]
          },
          "metadata": {},
          "execution_count": 15
        }
      ]
    },
    {
      "cell_type": "code",
      "source": [
        "clf.set_params(kernel='rbf').fit(X, y)"
      ],
      "metadata": {
        "id": "KxtI9Vd-YDp2",
        "colab": {
          "base_uri": "https://localhost:8080/"
        },
        "outputId": "27888cfd-65ae-46f2-f42b-bfb1a46c6c2f"
      },
      "execution_count": 16,
      "outputs": [
        {
          "output_type": "execute_result",
          "data": {
            "text/plain": [
              "SVC()"
            ]
          },
          "metadata": {},
          "execution_count": 16
        }
      ]
    },
    {
      "cell_type": "code",
      "source": [
        "clf.predict(X[:5])"
      ],
      "metadata": {
        "id": "CeScYjmcYE7D",
        "colab": {
          "base_uri": "https://localhost:8080/"
        },
        "outputId": "a852ee33-eaec-42ae-ad31-b10c53a7499f"
      },
      "execution_count": 17,
      "outputs": [
        {
          "output_type": "execute_result",
          "data": {
            "text/plain": [
              "array([0, 0, 0, 0, 0])"
            ]
          },
          "metadata": {},
          "execution_count": 17
        }
      ]
    },
    {
      "cell_type": "markdown",
      "source": [
        "这里，默认核函数`rbf`，首先通过[SVC.set_params()](https://scikit-learn.org/stable/modules/generated/sklearn.svm.SVC.html#sklearn.svm.SVC.set_params)被改为了`linear`；在进行一次学习后，又改回了`rbf`。"
      ],
      "metadata": {
        "id": "M_r9EIE_YGAf"
      }
    },
    {
      "cell_type": "markdown",
      "metadata": {
        "id": "51syiPzd9axr"
      },
      "source": [
        "### Multiclass vs. multilabel fitting 多类别和多标签"
      ]
    },
    {
      "cell_type": "markdown",
      "metadata": {
        "id": "meGitLQ79dF9"
      },
      "source": [
        "在使用[多分类器](https://scikit-learn.org/stable/modules/classes.html#module-sklearn.multiclass)时，执行的学习和预测任务取决于于目标数据上次`fit`时的格式。"
      ]
    },
    {
      "cell_type": "code",
      "source": [
        "from sklearn.svm import SVC\n",
        "from sklearn.multiclass import OneVsRestClassifier\n",
        "from sklearn.preprocessing import LabelBinarizer\n",
        "\n",
        "X = [[1, 2], [2, 4], [4, 5], [3, 2], [3, 1]]\n",
        "y = [0, 0, 1, 1, 2]\n",
        "\n",
        "classif = OneVsRestClassifier(estimator=SVC(random_state=0))\n",
        "classif.fit(X, y).predict(X)"
      ],
      "metadata": {
        "id": "THQCLTYrYHKU",
        "colab": {
          "base_uri": "https://localhost:8080/"
        },
        "outputId": "92b27e9c-60d9-4985-83d0-1a238ba028e1"
      },
      "execution_count": 18,
      "outputs": [
        {
          "output_type": "execute_result",
          "data": {
            "text/plain": [
              "array([0, 0, 1, 1, 2])"
            ]
          },
          "metadata": {},
          "execution_count": 18
        }
      ]
    },
    {
      "cell_type": "markdown",
      "metadata": {
        "id": "5VT-C5OW9dQF"
      },
      "source": [
        "在上面的例子中，分类器fit了一个一维多类别的标签，因此`predict()`方法提供了对应的多类别预测。\n",
        "\n",
        "fit一个二维的二分类标签也是可行的：这里将上面y的一维多类别标签转化为了二分类标签【类型变量的编码--OneHot编码】"
      ]
    },
    {
      "cell_type": "code",
      "source": [
        "y = LabelBinarizer().fit_transform(y)\n",
        "y"
      ],
      "metadata": {
        "id": "kONGKEORYKT8",
        "colab": {
          "base_uri": "https://localhost:8080/"
        },
        "outputId": "27e1dd3e-4428-4d73-ebff-974b46e22d45"
      },
      "execution_count": 19,
      "outputs": [
        {
          "output_type": "execute_result",
          "data": {
            "text/plain": [
              "array([[1, 0, 0],\n",
              "       [1, 0, 0],\n",
              "       [0, 1, 0],\n",
              "       [0, 1, 0],\n",
              "       [0, 0, 1]])"
            ]
          },
          "metadata": {},
          "execution_count": 19
        }
      ]
    },
    {
      "cell_type": "code",
      "source": [
        "classif.fit(X, y).predict(X)"
      ],
      "metadata": {
        "colab": {
          "base_uri": "https://localhost:8080/"
        },
        "id": "nFotAPKEDaTG",
        "outputId": "0a35f498-25b8-48c4-852d-d289049c9576"
      },
      "execution_count": 20,
      "outputs": [
        {
          "output_type": "execute_result",
          "data": {
            "text/plain": [
              "array([[1, 0, 0],\n",
              "       [1, 0, 0],\n",
              "       [0, 1, 0],\n",
              "       [0, 0, 0],\n",
              "       [0, 0, 0]])"
            ]
          },
          "metadata": {},
          "execution_count": 20
        }
      ]
    },
    {
      "cell_type": "markdown",
      "source": [
        "这里，分类器`fit()`于一个`y`的二维二分标签经过[LabelBinarizer](https://scikit-learn.org/stable/modules/generated/sklearn.preprocessing.LabelBinarizer.html#sklearn.preprocessing.LabelBinarizer)转化后的表示，因此`predict()`返回代表对应多标签预测的二维数组。\n",
        "\n",
        "注意：第四和第五个样例的返回全是0，表明他们与`fit`时的三个类别均不匹配。有了多标签的输出，给一个实例指定多个标签也是可行的："
      ],
      "metadata": {
        "id": "IqaNwNTLYK8i"
      }
    },
    {
      "cell_type": "code",
      "source": [
        "from sklearn.preprocessing import MultiLabelBinarizer\n",
        "y = [[0, 1], [0, 2], [1, 3], [0, 2, 3], [2, 4]]\n",
        "y = MultiLabelBinarizer().fit_transform(y)\n",
        "classif.fit(X, y).predict(X)"
      ],
      "metadata": {
        "id": "d4WABxBUYLVr",
        "colab": {
          "base_uri": "https://localhost:8080/"
        },
        "outputId": "d2df0893-36fb-4c5f-b8fa-b33cdb0c835b"
      },
      "execution_count": 21,
      "outputs": [
        {
          "output_type": "execute_result",
          "data": {
            "text/plain": [
              "array([[1, 1, 0, 0, 0],\n",
              "       [1, 0, 1, 0, 0],\n",
              "       [0, 1, 0, 1, 0],\n",
              "       [1, 0, 1, 0, 0],\n",
              "       [1, 0, 1, 0, 0]])"
            ]
          },
          "metadata": {},
          "execution_count": 21
        }
      ]
    },
    {
      "cell_type": "markdown",
      "source": [
        "本例中，分类器fit了指定了多个标签的实例，[MultiLabelBinarizer](https://scikit-learn.org/stable/modules/generated/sklearn.preprocessing.MultiLabelBinarizer.html#sklearn.preprocessing.MultiLabelBinarizer)用于将二维多标签数据二值化，然后传给`fit`，因此，`predict()`对每个实例，返回一个带有多个预测输出标签的二维数组。"
      ],
      "metadata": {
        "id": "mZQSjVWRYMhi"
      }
    }
  ],
  "metadata": {
    "colab": {
      "collapsed_sections": [],
      "name": "01_scikit-learn Tutorials(An intro to M.L. with sklearn).ipynb",
      "provenance": [],
      "authorship_tag": "ABX9TyPxKxR71KMgeQvaJPRftRbt",
      "include_colab_link": true
    },
    "kernelspec": {
      "display_name": "Python 3",
      "name": "python3"
    },
    "language_info": {
      "name": "python"
    }
  },
  "nbformat": 4,
  "nbformat_minor": 0
}
