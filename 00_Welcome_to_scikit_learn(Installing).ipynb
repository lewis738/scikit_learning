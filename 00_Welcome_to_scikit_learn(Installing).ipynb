{
  "nbformat": 4,
  "nbformat_minor": 0,
  "metadata": {
    "colab": {
      "name": "00_Welcome to scikit-learn(Installing).ipynb",
      "provenance": [],
      "collapsed_sections": [],
      "authorship_tag": "ABX9TyNC8YaNT3XzG0sJLWAGdwJM",
      "include_colab_link": true
    },
    "kernelspec": {
      "name": "python3",
      "display_name": "Python 3"
    },
    "language_info": {
      "name": "python"
    }
  },
  "cells": [
    {
      "cell_type": "markdown",
      "metadata": {
        "id": "view-in-github",
        "colab_type": "text"
      },
      "source": [
        "<a href=\"https://colab.research.google.com/github/lewis738/scikit_learning/blob/main/00_Welcome_to_scikit_learn(Installing).ipynb\" target=\"_parent\"><img src=\"https://colab.research.google.com/assets/colab-badge.svg\" alt=\"Open In Colab\"/></a>"
      ]
    },
    {
      "cell_type": "markdown",
      "source": [
        "# Installing scikit-learn"
      ],
      "metadata": {
        "id": "kNm02MyrrqOB"
      }
    },
    {
      "cell_type": "markdown",
      "source": [
        "安装`scikit-learning`主要有不同的方式：\n",
        "\n",
        "\n",
        "1.   [安装最新的官方版](https://scikit-learn.org/stable/install.html#install-official-release)：大多数人的最佳选择，其中提供了一个稳定的版本和预先build好的包，对于大多数平台都适用；\n",
        "2.   安装你的操作系统/Python发行版提供的`scikit-learn`版本，对于操作系统和Python发行版有发布`scikit-learn`的人来说，这是最快捷的方法，但可能不是在最新版的；\n",
        "3.   [从源代码编译构建](https://scikit-learn.org/stable/developers/advanced_installation.html#install-bleeding-edge)，如果不害怕运行全新的代码，并且希望获取最新的特性，这是最佳选择；对于想要对项目做贡献的人而言，这是必备的。"
      ],
      "metadata": {
        "id": "GyO2om1l8MD4"
      }
    },
    {
      "cell_type": "markdown",
      "source": [
        "## [Installing the latest release 安装最新发布版](https://scikit-learn.org/stable/install.html#installing-the-latest-release)\n",
        "请前往上述链接，选择对应的操作系统和安装方式，在该页面中将提供相关安装方式的对应方法，"
      ],
      "metadata": {
        "id": "_uVtFakjtp2i"
      }
    },
    {
      "cell_type": "markdown",
      "source": [
        "这里简单总结：\n",
        "*   pip安装的主要代码为\n",
        "```\n",
        "# 1.创建pip虚拟环境并激活（可跳过虚拟环境创建，直接安装）\n",
        "# 1.1.创建pip虚拟环境-Win、MacOs中：\n",
        "python -m venv sklearn-venv\n",
        "# 1.1.创建pip虚拟环境-Linux中：\n",
        "python3 -m venv sklearn-venv\n",
        "# 1.2.激活环境-Win中\n",
        "sklearn-venv\\Scripts\\activate\n",
        "# 1.2.激活环境-macOS、Linux中\n",
        "source sklearn-venv/bin/activate\n",
        "# 2.安装\n",
        "pip install -U scikit-learn\n",
        "# 3.检测安装【方法1-控制台直接执行】\n",
        "python -m pip show scikit-learn  # to see which version and where scikit-learn is installed\n",
        "python -m pip freeze  # to see all packages installed in the active virtualenv\n",
        "python -c \"import sklearn; sklearn.show_versions()\"\n",
        "# 3.检测安装【方法2-python中执行】\n",
        "#  3.1.进入python环境，命令行中运行\n",
        "python3 #Linux中\n",
        "python #Mac、Win中\n",
        "#  3.2.执行以下代码：\n",
        "import sklearn\n",
        "sklearn.show_versions()\n",
        "```\n",
        "\n",
        "*   conda安装的主要代码为\n",
        "```\n",
        "# 1.创建conda虚拟环境并安装（不同操作系统一致，如使用这里安装，则下面的安装代码不需要执行；若不创建虚拟环境，直接执行下面的安装步骤）\n",
        "conda create -n sklearn-env -c conda-forge scikit-learn\n",
        "conda activate sklearn-env\n",
        "# 2.安装\n",
        "conda install -c anaconda scikit-learn\n",
        "# 3.检测安装【方法1-控制台直接执行】\n",
        "conda list scikit-learn  # to see which scikit-learn version is installed\n",
        "conda list  # to see all packages installed in the active conda environment\n",
        "python -c \"import sklearn; sklearn.show_versions()\"\n",
        "# 3.检测安装【方法2-python中执行】\n",
        "# 3.1.进入python环境，命令行中运行\n",
        "python3 #Linux中\n",
        "python #Mac、Win中\n",
        "# 3.2.执行以下代码：\n",
        "import sklearn\n",
        "sklearn.show_versions()\n",
        "```"
      ],
      "metadata": {
        "id": "3BmaC5ec8W5b"
      }
    },
    {
      "cell_type": "markdown",
      "source": [
        "**注意：**为了避免不同包之间的可能冲突，强烈建议使用[虚拟环境`virtual environment (venv)`](https://docs.python.org/3/tutorial/venv.html)或者[conda虚拟环境`conda environment`](https://docs.conda.io/projects/conda/en/latest/user-guide/tasks/manage-environments.html)\n",
        "\n",
        "使用这样虚拟的独立环境，可以独立于先前安装的Python软件包，用pip或conda安装特定版本的scikit-learn及其依赖。\n",
        "\n",
        "*   **特别的：**在Linux下，并不建议将pip安装的包与包管理器(apt、dnf、pacman)的包放在一起\n",
        "*   **记得：**开了一个新的ternimal之后，运行python代码前，请务必激活所需的虚拟环境\n",
        "\n",
        "如果你还没安装`Numpy`和`SciPy`，可以使用pip或conda安装。使用pip时，确保使用的是`binary wheels`，并且`NumPy`和`SciPy`没有重新从源码编译（在使用特定配置的操作系统和硬件时可能发生，例如树莓PI上的Linux）。\n",
        "\n",
        "`Scikit-learn`的画图功能（`plot_`开头的函数名和`Display`结束的类名）依赖于`Matplotlib`，不同的示例可能要求`Matplotlib`、`scikit-image`、`pandas`或者`seaborn`. `Scikit-learn`所需的最低版本依赖请参考[链接](https://scikit-learn.org/stable/install.html#:~:text=with%20its%20purpose.-,Dependency,-Minimum%20Version)\n",
        "\n",
        " > **警告**：Scikit-learn 0.20 是支持 Python 2.7 和 Python 3.4 的最后版本. Scikit-learn 0.21 支持 Python 3.5-3.7. Scikit-learn 0.22 支持 Python 3.5-3.8. Scikit-learn 0.23 - 0.24 需要 Python 3.6 或更新版本. Scikit-learn 1.0 及之后的版本 Python 3.7 或更新版本.、\n",
        "\n",
        "  > **注意**：在PyPy上安装PyPy3-v5.10+，需要先安装Numpy 1.14.0+, and scipy 1.1.0+ \n"
      ],
      "metadata": {
        "id": "wXONWUN7xP7v"
      }
    },
    {
      "cell_type": "markdown",
      "source": [
        "## 在苹果M1芯片上安装请参考[链接](https://scikit-learn.org/stable/install.html#installing-on-apple-silicon-m1-hardware)"
      ],
      "metadata": {
        "id": "J5DySo4R2Icv"
      }
    },
    {
      "cell_type": "markdown",
      "source": [
        "## Third party distributions of scikit-lear 第三方分发\n"
      ],
      "metadata": {
        "id": "4VfbqO6_2PZN"
      }
    },
    {
      "cell_type": "markdown",
      "source": [
        "### [Arch Linux](https://scikit-learn.org/stable/install.html#arch-linux)\n",
        "\n",
        "\n",
        "```\n",
        "sudo pacman -S python-scikit-learn\n",
        "```\n",
        "\n"
      ],
      "metadata": {
        "id": "DoAB5H5g2otX"
      }
    },
    {
      "cell_type": "markdown",
      "source": [
        "### [Debian/Ubuntu](https://scikit-learn.org/stable/install.html#debian-ubuntu)\n",
        "\n",
        "\n",
        "```\n",
        "sudo apt-get install python3-sklearn python3-sklearn-lib python3-sklearn-doc\n",
        "```\n",
        "\n"
      ],
      "metadata": {
        "id": "3RGdttmS2s-W"
      }
    },
    {
      "cell_type": "markdown",
      "source": [
        "### [Fedora](https://scikit-learn.org/stable/install.html#fedora)\n",
        "\n",
        "\n",
        "```\n",
        "sudo dnf install python3-scikit-learn\n",
        "```\n",
        "\n"
      ],
      "metadata": {
        "id": "3m_AqtxZ25J-"
      }
    },
    {
      "cell_type": "markdown",
      "source": [
        "### [NetBSD](https://scikit-learn.org/stable/install.html#netbsd)"
      ],
      "metadata": {
        "id": "C4wxIeZ029-z"
      }
    },
    {
      "cell_type": "markdown",
      "source": [
        "### [MacPorts for Mac OSX](https://scikit-learn.org/stable/install.html#macports-for-mac-osx)\n",
        "\n",
        "\n",
        "```\n",
        "sudo port install py39-scikit-learn\n",
        "```\n",
        "\n"
      ],
      "metadata": {
        "id": "Zj5BzfNo3Dfo"
      }
    },
    {
      "cell_type": "markdown",
      "source": [
        "### [Intel conda channel](https://scikit-learn.org/stable/install.html#intel-conda-channel)\n",
        "\n",
        "```\n",
        "conda install -c intel scikit-learn\n",
        "```\n",
        "\n"
      ],
      "metadata": {
        "id": "G6XEN5uD3MvJ"
      }
    },
    {
      "cell_type": "markdown",
      "source": [
        "## [Troubleshooting](https://scikit-learn.org/stable/install.html#troubleshooting)"
      ],
      "metadata": {
        "id": "pvDzkQ6o3ina"
      }
    }
  ]
}