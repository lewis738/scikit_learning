{
  "nbformat": 4,
  "nbformat_minor": 0,
  "metadata": {
    "colab": {
      "name": "Untitled2.ipynb",
      "provenance": [],
      "collapsed_sections": [],
      "authorship_tag": "ABX9TyNk653WmWwyeRHPSIo/BXoV",
      "include_colab_link": true
    },
    "kernelspec": {
      "name": "python3",
      "display_name": "Python 3"
    },
    "language_info": {
      "name": "python"
    }
  },
  "cells": [
    {
      "cell_type": "markdown",
      "metadata": {
        "id": "view-in-github",
        "colab_type": "text"
      },
      "source": [
        "<a href=\"https://colab.research.google.com/github/lewis738/scikit_learning/blob/main/01_Getting_Started_03_Pipeline.ipynb\" target=\"_parent\"><img src=\"https://colab.research.google.com/assets/colab-badge.svg\" alt=\"Open In Colab\"/></a>"
      ]
    },
    {
      "cell_type": "markdown",
      "source": [
        "# Getting Started - Pipelines: chaining pre-processors and estimators\n",
        "原文链接[在此](https://scikit-learn.org/stable/getting_started.html#pipelines-chaining-pre-processors-and-estimators)\n",
        "\n",
        "  这个文件练习`Pipeline`的使用:\n",
        "\n",
        "  `transformer`和`pre-processor`可以合在一起，作为一个数据管道（`Pipeline`），数据管道（`Pipeline`）提供的功能（`API`），就像一个估计器（`estimator`）一样，可以对它使用`fit`和`predict`方法，使用`Pipeline`还可以避免数据泄露（即，在训练数据中泄露一些测试数据。后面演示）。\n",
        "\n",
        "  下面的例子中，导入[鸢尾花数据集](https://scikit-learn.org/stable/datasets.html#datasets)（`Iris dataset`），将其划分为训练集`train`和测试集`test`，最后计算`Pipeline`在训练集上的预测精度。\n",
        "\n"
      ],
      "metadata": {
        "id": "glHDBq0V9yiU"
      }
    },
    {
      "cell_type": "code",
      "execution_count": 1,
      "metadata": {
        "colab": {
          "base_uri": "https://localhost:8080/"
        },
        "id": "jL96H2CP9xBC",
        "outputId": "5229486c-3b4f-46c1-9304-259c4572bbda"
      },
      "outputs": [
        {
          "output_type": "execute_result",
          "data": {
            "text/plain": [
              "0.9736842105263158"
            ]
          },
          "metadata": {},
          "execution_count": 1
        }
      ],
      "source": [
        "from sklearn.datasets import load_iris  #Load dataset导入数据集\n",
        "from sklearn.model_selection import train_test_split  #split dataset 划分数据集为训练集和测试集用\n",
        "from sklearn.preprocessing import StandardScaler   # 数据标准化\n",
        "from sklearn.linear_model import LogisticRegression # 逻辑回归拟合器\n",
        "from sklearn.pipeline import make_pipeline  # 用于构造一个Pipeline\n",
        "from sklearn.metrics import accuracy_score  # 用于计算精确度评分\n",
        "\n",
        "# create a pipeline object 创建一个pipeline对象\n",
        "pipe = make_pipeline(\n",
        "    StandardScaler(),\n",
        "    LogisticRegression()\n",
        ")\n",
        "\n",
        "# load the iris dataset and split it into train and test sets 导入数据集并划分train和test\n",
        "X, y = load_iris(return_X_y=True)\n",
        "X_train, X_test, y_train, y_test = train_test_split(X, y, random_state=0)\n",
        "\n",
        "# fit the whole pipeline\n",
        "pipe.fit(X_train, y_train)\n",
        "\n",
        "\n",
        "# we can now use it like any other estimator 可以看到用Pipeine和用其他estimator一样\n",
        "accuracy_score(pipe.predict(X_test), y_test)"
      ]
    },
    {
      "cell_type": "code",
      "source": [
        ""
      ],
      "metadata": {
        "id": "l9cZWaIL_VbU"
      },
      "execution_count": null,
      "outputs": []
    }
  ]
}