{
  "nbformat": 4,
  "nbformat_minor": 0,
  "metadata": {
    "colab": {
      "name": "01-04_scikit_learn_Tutorials(Choosing the right estimator).ipynb",
      "provenance": [],
      "collapsed_sections": [],
      "authorship_tag": "ABX9TyOxrdN+D+zXHBH/EuOVva+q",
      "include_colab_link": true
    },
    "kernelspec": {
      "name": "python3",
      "display_name": "Python 3"
    },
    "language_info": {
      "name": "python"
    }
  },
  "cells": [
    {
      "cell_type": "markdown",
      "metadata": {
        "id": "view-in-github",
        "colab_type": "text"
      },
      "source": [
        "<a href=\"https://colab.research.google.com/github/lewis738/scikit_learning/blob/main/01_04_scikit_learn_Tutorials(Choosing_the_right_estimator).ipynb\" target=\"_parent\"><img src=\"https://colab.research.google.com/assets/colab-badge.svg\" alt=\"Open In Colab\"/></a>"
      ]
    },
    {
      "cell_type": "markdown",
      "source": [
        "# Choosing the right estimator [链接](https://scikit-learn.org/stable/tutorial/machine_learning_map/index.html)\n"
      ],
      "metadata": {
        "id": "kzWtcqX7RtKQ"
      }
    },
    {
      "cell_type": "markdown",
      "source": [
        "  有的时候，进行机器学习最困难的部分就是选择一个合适的估计器`estimator`；不同的估计器适用于不同类型的数据和不同的问题；\n",
        "\n",
        "  下面的流程图提供了关于解决不同问题应该尝试的估计器的粗略引导。\n",
        "\n",
        "  在scikit-learn的[这一页面](https://scikit-learn.org/stable/tutorial/machine_learning_map/index.html)中，下图的每个绿色框都是可以点击的，以便跳转到该算法对应的页面。"
      ],
      "metadata": {
        "id": "rIlusyGdR-mI"
      }
    },
    {
      "cell_type": "markdown",
      "source": [
        "![图片scikit-learn algorithm cheat-sheet](https://scikit-learn.org/stable/_static/ml_map.png)"
      ],
      "metadata": {
        "id": "QHXiYDxhRtg2"
      }
    }
  ]
}