{
  "nbformat": 4,
  "nbformat_minor": 0,
  "metadata": {
    "colab": {
      "name": "“Untitled1.ipynb”的副本",
      "provenance": [],
      "collapsed_sections": [],
      "authorship_tag": "ABX9TyPXBmiHSwQ/gXJ2H+R05V+T",
      "include_colab_link": true
    },
    "kernelspec": {
      "name": "python3",
      "display_name": "Python 3"
    },
    "language_info": {
      "name": "python"
    }
  },
  "cells": [
    {
      "cell_type": "markdown",
      "metadata": {
        "id": "view-in-github",
        "colab_type": "text"
      },
      "source": [
        "<a href=\"https://colab.research.google.com/github/lewis738/scikit_learning/blob/main/01_Getting_Started.ipynb\" target=\"_parent\"><img src=\"https://colab.research.google.com/assets/colab-badge.svg\" alt=\"Open In Colab\"/></a>"
      ]
    },
    {
      "cell_type": "markdown",
      "source": [
        "# **Getting started**"
      ],
      "metadata": {
        "id": "tCs_mOsqJxxe"
      }
    },
    {
      "cell_type": "markdown",
      "source": [
        "## Fitting and predicting: estimator basics\n",
        "原文链接[在此](https://scikit-learn.org/stable/getting_started.html)，这个文件练习`fit`和`predict`的使用\n"
      ],
      "metadata": {
        "id": "rXh8NE6C3c7C"
      }
    },
    {
      "cell_type": "code",
      "execution_count": null,
      "metadata": {
        "id": "viAy22pg11NS",
        "colab": {
          "base_uri": "https://localhost:8080/"
        },
        "outputId": "86667d6e-89c1-4c71-8cb7-7dad4e3a5bee"
      },
      "outputs": [
        {
          "output_type": "stream",
          "name": "stdout",
          "text": [
            "Requirement already satisfied: scikit-learn in /usr/local/lib/python3.7/dist-packages (1.0.1)\n",
            "Requirement already satisfied: numpy>=1.14.6 in /usr/local/lib/python3.7/dist-packages (from scikit-learn) (1.19.5)\n",
            "Requirement already satisfied: scipy>=1.1.0 in /usr/local/lib/python3.7/dist-packages (from scikit-learn) (1.4.1)\n",
            "Requirement already satisfied: joblib>=0.11 in /usr/local/lib/python3.7/dist-packages (from scikit-learn) (1.1.0)\n",
            "Requirement already satisfied: threadpoolctl>=2.0.0 in /usr/local/lib/python3.7/dist-packages (from scikit-learn) (3.0.0)\n"
          ]
        }
      ],
      "source": [
        "!pip install scikit-learn # 安装sklearn，注意全称不是sklearn"
      ]
    },
    {
      "cell_type": "code",
      "source": [
        "from sklearn.ensemble import RandomForestClassifier #引入随机森林分类器的包"
      ],
      "metadata": {
        "id": "2W7KOMFJ26Wq"
      },
      "execution_count": null,
      "outputs": []
    },
    {
      "cell_type": "markdown",
      "source": [
        "样例使用的是一个3个特征二分类问题，首先初始化一个随机森林估计器，然后初始化训练数据X和对应目标值Y"
      ],
      "metadata": {
        "id": "r_UqXZi95DJ-"
      }
    },
    {
      "cell_type": "code",
      "source": [
        "clf = RandomForestClassifier(random_state=0)  \n",
        "X = [[1, 2, 3], # 2 samples, 3 features\n",
        "     [11, 12, 13]]\n",
        "Y = [0, 1]  # classes of each sample"
      ],
      "metadata": {
        "id": "z1hO1kXq3E7n"
      },
      "execution_count": null,
      "outputs": []
    },
    {
      "cell_type": "code",
      "source": [
        "clf.fit(X, Y)"
      ],
      "metadata": {
        "colab": {
          "base_uri": "https://localhost:8080/"
        },
        "id": "KkQVnaqeFxZm",
        "outputId": "96ca7bef-16d3-421b-f0ac-06420fe99f39"
      },
      "execution_count": null,
      "outputs": [
        {
          "output_type": "execute_result",
          "data": {
            "text/plain": [
              "RandomForestClassifier(random_state=0)"
            ]
          },
          "metadata": {},
          "execution_count": 6
        }
      ]
    },
    {
      "cell_type": "markdown",
      "source": [
        "`fit`方法能接受两个变量：\n",
        "\n",
        "\n",
        "\n",
        "*   `X`：样例矩阵，其尺寸为`(n_samples, n_features)`即样例数×特征数，其中每一行表示一个样例，每一列对应一个特征；\n",
        "*   `Y`：目标值，对应回归问题中的真实值，或者分类问题中代表不同类别的整数值（或其他离散值），对于无监督学习，一般不需要指定`Y`；`Y`一般是一位数组`array`，其中第`i`个记录`entry`表示`X`中第i条记录/样例的目标值。\n",
        "\n",
        "`X`和`Y`一般应为`numpy array`类新的变量，或类似的数组类型的变量，少部分的估计器需要的是其他类型（例如稀疏矩阵）。\n",
        "\n",
        "在对`estimator`使用了`fit`方法后，就能对新数据进行预测，而不需要重新进行训练。"
      ],
      "metadata": {
        "id": "Dui-QCcvF2ht"
      }
    },
    {
      "cell_type": "code",
      "source": [
        "clf.predict(X)  # predict classes of the training data"
      ],
      "metadata": {
        "colab": {
          "base_uri": "https://localhost:8080/"
        },
        "id": "li9B_qgjF3ID",
        "outputId": "ff4afbf0-9af1-44ad-f7e9-084e6eb29dcf"
      },
      "execution_count": null,
      "outputs": [
        {
          "output_type": "execute_result",
          "data": {
            "text/plain": [
              "array([0, 1])"
            ]
          },
          "metadata": {},
          "execution_count": 11
        }
      ]
    },
    {
      "cell_type": "code",
      "source": [
        "clf.predict([[4, 5, 6], [14, 15, 16]])  # predict classes of new data"
      ],
      "metadata": {
        "colab": {
          "base_uri": "https://localhost:8080/"
        },
        "id": "LdXBNf7ZF6p0",
        "outputId": "33f0e510-3993-4779-bd44-adc0bc18ac30"
      },
      "execution_count": null,
      "outputs": [
        {
          "output_type": "execute_result",
          "data": {
            "text/plain": [
              "array([0, 1])"
            ]
          },
          "metadata": {},
          "execution_count": 12
        }
      ]
    },
    {
      "cell_type": "markdown",
      "source": [
        "## Transformers and pre-processors\n",
        "原文链接[在此](https://scikit-learn.org/stable/getting_started.html#transformers-and-pre-processors)，这个文件练习`transformer`和`pre-processor`的使用；\n",
        "\n",
        "机器学习的工作流一般包括多个步骤，一个典型的数据管道`Pipeline`一般包括数据预处理来转换或导入数据，以及一个最终的预测器`predictor`来进行目标值`Y`的预测。\n",
        "\n",
        "在`scikit-learn`中，预处理`pre-process`和数据变换`transform`遵循了估计器`estimator`对象的API（实际上他们继承了相同的`BaseEstimator`类）；但是，`transform`没有`predict`方法，而是一个`transform`方法，用于输出对样例数据`X`变换后的结果"
      ],
      "metadata": {
        "id": "cM6cJuspJ6Pz"
      }
    },
    {
      "cell_type": "code",
      "source": [
        "from sklearn.preprocessing import StandardScaler  # 数据标准化\n",
        "X = [[0, 15],\n",
        "     [1, -10]]\n",
        "# scale data according to computed scaling values\n",
        "StandardScaler().fit(X).transform(X)"
      ],
      "metadata": {
        "id": "Pt7k5dMjKEaR"
      },
      "execution_count": null,
      "outputs": []
    },
    {
      "cell_type": "markdown",
      "source": [
        "有时可能需要对不同的特征使用不同的数据变换方法，这时可以使用[列变换](https://scikit-learn.org/stable/modules/compose.html#column-transformer)"
      ],
      "metadata": {
        "id": "SldJX_FsKF2r"
      }
    },
    {
      "cell_type": "markdown",
      "source": [
        "## Pipelines: chaining pre-processors and estimators\n",
        "原文链接[在此](https://scikit-learn.org/stable/getting_started.html#pipelines-chaining-pre-processors-and-estimators)\n",
        "\n",
        "  这个文件练习`Pipeline`的使用:\n",
        "\n",
        "  `transformer`和`pre-processor`可以合在一起，作为一个数据管道（`Pipeline`），数据管道（`Pipeline`）提供的功能（`API`），就像一个估计器（`estimator`）一样，可以对它使用`fit`和`predict`方法，使用`Pipeline`还可以避免数据泄露（即，在训练数据中泄露一些测试数据。后面演示）。\n",
        "\n",
        "  下面的例子中，导入[鸢尾花数据集](https://scikit-learn.org/stable/datasets.html#datasets)（`Iris dataset`），将其划分为训练集`train`和测试集`test`，最后计算`Pipeline`在训练集上的预测精度。\n",
        "\n"
      ],
      "metadata": {
        "id": "2CouCc4RKPto"
      }
    },
    {
      "cell_type": "code",
      "source": [
        "from sklearn.datasets import load_iris  #Load dataset导入数据集\n",
        "from sklearn.model_selection import train_test_split  #split dataset 划分数据集为训练集和测试集用\n",
        "from sklearn.preprocessing import StandardScaler   # 数据标准化\n",
        "from sklearn.linear_model import LogisticRegression # 逻辑回归拟合器\n",
        "from sklearn.pipeline import make_pipeline  # 用于构造一个Pipeline\n",
        "from sklearn.metrics import accuracy_score  # 用于计算精确度评分\n",
        "\n",
        "# create a pipeline object 创建一个pipeline对象\n",
        "pipe = make_pipeline(\n",
        "    StandardScaler(),\n",
        "    LogisticRegression()\n",
        ")\n",
        "\n",
        "# load the iris dataset and split it into train and test sets 导入数据集并划分train和test\n",
        "X, y = load_iris(return_X_y=True)\n",
        "X_train, X_test, y_train, y_test = train_test_split(X, y, random_state=0)\n",
        "\n",
        "# fit the whole pipeline\n",
        "pipe.fit(X_train, y_train)\n",
        "\n",
        "\n",
        "# we can now use it like any other estimator 可以看到用Pipeine和用其他estimator一样\n",
        "accuracy_score(pipe.predict(X_test), y_test)"
      ],
      "metadata": {
        "id": "iEMsB6zXKTXy"
      },
      "execution_count": null,
      "outputs": []
    }
  ]
}
