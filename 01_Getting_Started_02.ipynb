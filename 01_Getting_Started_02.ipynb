{
  "nbformat": 4,
  "nbformat_minor": 0,
  "metadata": {
    "colab": {
      "name": "Untitled2.ipynb",
      "provenance": [],
      "authorship_tag": "ABX9TyMDeGGX7h23gc0H9F6EqKP0",
      "include_colab_link": true
    },
    "kernelspec": {
      "name": "python3",
      "display_name": "Python 3"
    },
    "language_info": {
      "name": "python"
    }
  },
  "cells": [
    {
      "cell_type": "markdown",
      "metadata": {
        "id": "view-in-github",
        "colab_type": "text"
      },
      "source": [
        "<a href=\"https://colab.research.google.com/github/lewis738/scikit_learning/blob/main/01_Getting_Started_02.ipynb\" target=\"_parent\"><img src=\"https://colab.research.google.com/assets/colab-badge.svg\" alt=\"Open In Colab\"/></a>"
      ]
    },
    {
      "cell_type": "markdown",
      "source": [
        "# Getting Started - Transformers and pre-processors\n",
        "原文链接[在此](https://scikit-learn.org/stable/getting_started.html#transformers-and-pre-processors)，这个文件练习`transformer`和`pre-processor`的使用；\n",
        "\n",
        "机器学习的工作流一般包括多个步骤，一个典型的数据管道`Pipeline`一般包括数据预处理来转换或导入数据，以及一个最终的预测器`predictor`来进行目标值`Y`的预测。\n",
        "\n",
        "在`scikit-learn`中，预处理`pre-process`和数据变换`transform`遵循了估计器`estimator`对象的API（实际上他们继承了相同的`BaseEstimator`类）；但是，`transform`没有`predict`方法，而是一个`transform`方法，用于输出对样例数据`X`变换后的结果\n",
        "\n"
      ],
      "metadata": {
        "id": "glHDBq0V9yiU"
      }
    },
    {
      "cell_type": "code",
      "execution_count": null,
      "metadata": {
        "id": "jL96H2CP9xBC"
      },
      "outputs": [],
      "source": [
        "from sklearn.preprocessing import StandardScaler  # 数据标准化\n",
        "X = [[0, 15],\n",
        "     [1, -10]]\n",
        "# scale data according to computed scaling values\n",
        "StandardScaler().fit(X).transform(X)"
      ]
    },
    {
      "cell_type": "markdown",
      "source": [
        "有时可能需要对不同的特征使用不同的数据变换方法，这时可以使用[列变换](https://scikit-learn.org/stable/modules/compose.html#column-transformer)"
      ],
      "metadata": {
        "id": "7hyjlVEQDe6P"
      }
    },
    {
      "cell_type": "code",
      "source": [
        ""
      ],
      "metadata": {
        "id": "oUBovfVWDpUM"
      },
      "execution_count": null,
      "outputs": []
    }
  ]
}