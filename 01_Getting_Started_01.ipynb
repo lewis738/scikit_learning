{
  "nbformat": 4,
  "nbformat_minor": 0,
  "metadata": {
    "colab": {
      "name": "Untitled1.ipynb",
      "provenance": [],
      "authorship_tag": "ABX9TyOxd10l0G2qUtmJXfoOmT+o",
      "include_colab_link": true
    },
    "kernelspec": {
      "name": "python3",
      "display_name": "Python 3"
    },
    "language_info": {
      "name": "python"
    }
  },
  "cells": [
    {
      "cell_type": "markdown",
      "metadata": {
        "id": "view-in-github",
        "colab_type": "text"
      },
      "source": [
        "<a href=\"https://colab.research.google.com/github/lewis738/scikit_learning/blob/main/01_Getting_Started_01.ipynb\" target=\"_parent\"><img src=\"https://colab.research.google.com/assets/colab-badge.svg\" alt=\"Open In Colab\"/></a>"
      ]
    },
    {
      "cell_type": "markdown",
      "source": [
        "# Getting Started\n",
        "原文链接[在此](https://scikit-learn.org/stable/getting_started.html)，这个文件练习`fit`和`predict`的使用\n"
      ],
      "metadata": {
        "id": "rXh8NE6C3c7C"
      }
    },
    {
      "cell_type": "markdown",
      "source": [
        "# Fitting and predicting: estimator basics"
      ],
      "metadata": {
        "id": "JPhYsery4MdV"
      }
    },
    {
      "cell_type": "code",
      "execution_count": 2,
      "metadata": {
        "id": "viAy22pg11NS",
        "colab": {
          "base_uri": "https://localhost:8080/"
        },
        "outputId": "86667d6e-89c1-4c71-8cb7-7dad4e3a5bee"
      },
      "outputs": [
        {
          "output_type": "stream",
          "name": "stdout",
          "text": [
            "Requirement already satisfied: scikit-learn in /usr/local/lib/python3.7/dist-packages (1.0.1)\n",
            "Requirement already satisfied: numpy>=1.14.6 in /usr/local/lib/python3.7/dist-packages (from scikit-learn) (1.19.5)\n",
            "Requirement already satisfied: scipy>=1.1.0 in /usr/local/lib/python3.7/dist-packages (from scikit-learn) (1.4.1)\n",
            "Requirement already satisfied: joblib>=0.11 in /usr/local/lib/python3.7/dist-packages (from scikit-learn) (1.1.0)\n",
            "Requirement already satisfied: threadpoolctl>=2.0.0 in /usr/local/lib/python3.7/dist-packages (from scikit-learn) (3.0.0)\n"
          ]
        }
      ],
      "source": [
        "!pip install scikit-learn\n"
      ]
    },
    {
      "cell_type": "code",
      "source": [
        "from sklearn.ensemble import RandomForestClassifier"
      ],
      "metadata": {
        "id": "2W7KOMFJ26Wq"
      },
      "execution_count": 4,
      "outputs": []
    },
    {
      "cell_type": "markdown",
      "source": [
        "样例使用的是一个3个特征的分类，输入X为：\n",
        "| No.  | $x_1$ | $x_2$ | $x_3$ |\n",
        "| ---- | ----- | ----- | ----- |\n",
        "|1|1|2|3|\n",
        "|2|11|12|13|\n"
      ],
      "metadata": {
        "id": "r_UqXZi95DJ-"
      }
    },
    {
      "cell_type": "code",
      "source": [
        "clf = RandomForestClassifier(random_state=0)\n",
        "X = [[1, 2, 3], # 2 samples, 3 features\n",
        "     [11, 12, 13]]\n",
        "Y = [0, 1]  # classes of each sample"
      ],
      "metadata": {
        "id": "z1hO1kXq3E7n"
      },
      "execution_count": null,
      "outputs": []
    }
  ]
}